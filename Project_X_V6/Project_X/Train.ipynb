{
 "cells": [
  {
   "cell_type": "markdown",
   "metadata": {},
   "source": [
    "# Train \n",
    "\n",
    "This file is used for training the machine learning model and generating the 'weights.json' file.  \n",
    "\n",
    "You should not need to run or accelerate anything in this file.  It is here for documentation purposes only!\n",
    "."
   ]
  },
  {
   "cell_type": "code",
   "execution_count": 1,
   "metadata": {},
   "outputs": [],
   "source": [
    "%matplotlib inline\n",
    "import json\n",
    "import numpy as np\n",
    "import matplotlib.pyplot as plt\n",
    "import pandas as pd\n",
    "from scipy.stats import truncnorm"
   ]
  },
  {
   "cell_type": "code",
   "execution_count": 2,
   "metadata": {},
   "outputs": [],
   "source": [
    "image_size = 28 # width and length\n",
    "no_of_different_labels = 10 #  i.e. 0, 1, 2, 3, ..., 9\n",
    "image_pixels = image_size * image_size\n",
    "data_path = \"./data/\"\n",
    "train_data = pd.read_csv(data_path + \"mnist_train.csv\", delimiter=\",\").values\n",
    "test_data = pd.read_csv(data_path + \"mnist_test.csv\", delimiter=\",\").values\n"
   ]
  },
  {
   "cell_type": "code",
   "execution_count": 3,
   "metadata": {},
   "outputs": [],
   "source": [
    "fac = 0.99 / 255\n",
    "train_imgs = np.asfarray(train_data[:, 1:], dtype=np.float32) * fac + 0.01\n",
    "test_imgs = np.asfarray(test_data[:, 1:], dtype=np.float32) * fac + 0.01\n",
    "train_imgs = train_imgs.reshape(train_imgs.shape[0], 1, train_imgs.shape[1])\n",
    "test_imgs = test_imgs.reshape(test_imgs.shape[0], 1, test_imgs.shape[1])\n",
    "\n",
    "train_labels = np.asfarray(train_data[:, :1], dtype=np.float32)\n",
    "test_labels = np.asfarray(test_data[:, :1], dtype=np.float32)\n",
    "\n",
    "lr = np.arange(no_of_different_labels)\n",
    "# transform labels into one hot representation\n",
    "train_labels_one_hot = (lr==train_labels).astype(np.float32)\n",
    "test_labels_one_hot = (lr==test_labels).astype(np.float32)\n",
    "\n",
    "# we don't want zeroes and ones in the labels neither:\n",
    "train_labels_one_hot[train_labels_one_hot==0] = 0.001\n",
    "train_labels_one_hot[train_labels_one_hot==1] = 0.999\n",
    "test_labels_one_hot[test_labels_one_hot==0] = 0.001\n",
    "test_labels_one_hot[test_labels_one_hot==1] = 0.999"
   ]
  },
  {
   "cell_type": "code",
   "execution_count": 4,
   "metadata": {},
   "outputs": [
    {
     "data": {
      "image/png": "[encoded data removed]",
      "text/plain": [
       "<Figure size 432x288 with 1 Axes>"
      ]
     },
     "metadata": {
      "needs_background": "light"
     },
     "output_type": "display_data"
    },
    {
     "data": {
      "image/png": "[encoded data removed]",
      "text/plain": [
       "<Figure size 432x288 with 1 Axes>"
      ]
     },
     "metadata": {
      "needs_background": "light"
     },
     "output_type": "display_data"
    },
    {
     "data": {
      "image/png": "[encoded data removed]",
      "text/plain": [
       "<Figure size 432x288 with 1 Axes>"
      ]
     },
     "metadata": {
      "needs_background": "light"
     },
     "output_type": "display_data"
    }
   ],
   "source": [
    "for i in range(3):\n",
    "    img = train_imgs[i].reshape((28,28))\n",
    "    plt.imshow(img, cmap=\"Greys\")\n",
    "    plt.show()"
   ]
  },
  {
   "cell_type": "markdown",
   "metadata": {},
   "source": [
    "# Code adapted from:\n",
    "\n",
    "https://towardsdatascience.com/math-neural-network-from-scratch-in-python-d6da9f29ce65"
   ]
  },
  {
   "cell_type": "code",
   "execution_count": 5,
   "metadata": {},
   "outputs": [],
   "source": [
    "# Base class\n",
    "class Layer:\n",
    "    def __init__(self):\n",
    "        self.input = None\n",
    "        self.output = None\n",
    "\n",
    "    # computes the output Y of a layer for a given input X\n",
    "    def forward_propagation(self, input):\n",
    "        raise NotImplementedError\n",
    "\n",
    "    # computes dE/dX for a given dE/dY (and update parameters if any)\n",
    "    def backward_propagation(self, output_error, learning_rate):\n",
    "        raise NotImplementedError"
   ]
  },
  {
   "cell_type": "code",
   "execution_count": 6,
   "metadata": {},
   "outputs": [],
   "source": [
    "# inherit from base class Layer\n",
    "class FCLayer(Layer):\n",
    "    # input_size = number of input neurons\n",
    "    # output_size = number of output neurons\n",
    "    def __init__(self, input_size, output_size):\n",
    "        self.weights = np.random.rand(input_size, output_size) - 0.5\n",
    "        self.bias = np.random.rand(1, output_size) - 0.5\n",
    "\n",
    "    # returns output for a given input\n",
    "    def forward_propagation(self, input_data):\n",
    "        self.input = input_data\n",
    "        self.output = np.dot(self.input, self.weights) + self.bias\n",
    "        return self.output\n",
    "\n",
    "    # computes dE/dW, dE/dB for a given output_error=dE/dY. Returns input_error=dE/dX.\n",
    "    def backward_propagation(self, output_error, learning_rate):\n",
    "        input_error = np.dot(output_error, self.weights.T)\n",
    "        weights_error = np.dot(self.input.T, output_error)\n",
    "        # dBias = output_error\n",
    "\n",
    "        # update parameters\n",
    "        self.weights -= learning_rate * weights_error\n",
    "        self.bias -= learning_rate * output_error\n",
    "        return input_error"
   ]
  },
  {
   "cell_type": "code",
   "execution_count": 7,
   "metadata": {},
   "outputs": [],
   "source": [
    "# inherit from base class Layer\n",
    "class ActivationLayer(Layer):\n",
    "    def __init__(self, activation, activation_prime):\n",
    "        self.activation = activation\n",
    "        self.activation_prime = activation_prime\n",
    "\n",
    "    # returns the activated input\n",
    "    def forward_propagation(self, input_data):\n",
    "        self.input = input_data\n",
    "        self.output = self.activation(self.input)\n",
    "        return self.output\n",
    "\n",
    "    # Returns input_error=dE/dX for a given output_error=dE/dY.\n",
    "    # learning_rate is not used because there is no \"learnable\" parameters.\n",
    "    def backward_propagation(self, output_error, learning_rate):\n",
    "        return self.activation_prime(self.input) * output_error"
   ]
  },
  {
   "cell_type": "code",
   "execution_count": 13,
   "metadata": {},
   "outputs": [],
   "source": [
    "class TanhLayer(ActivationLayer):\n",
    "    # static\n",
    "    e = 2.71828182845904523536028747135266249775724709369995\n",
    "    \n",
    "    #http://www.plunk.org/~hatch/rightway.php\n",
    "    #https://math.stackexchange.com/questions/518758/alternative-form-for-sinhx-coshx\n",
    "    @staticmethod\n",
    "    def tanh(x):   \n",
    "        e = TanhLayer.e\n",
    "        return (1 - e ** (-2 * x)) / (1 + e ** (-2 * x)) \n",
    "        #return (1-np.exp(-2 * x))/(1+np.exp(-2 * x))\n",
    "\n",
    "    @staticmethod\n",
    "    def tanh_prime(x):\n",
    "        return 1-TanhLayer.tanh(x)**2\n",
    "    \n",
    "    def __init__(self):\n",
    "        super(TanhLayer,self).__init__(self.tanh, self.tanh_prime)\n",
    "    \n",
    "class NpTanhLayer(ActivationLayer):\n",
    "    def __init__(self):\n",
    "        super(NpTanhLayer,self).__init__(np.tanh, self.tanh_prime)\n",
    "    \n",
    "    @staticmethod\n",
    "    def tanh_prime(x):        \n",
    "        return 1-np.tanh(x)**2;    "
   ]
  },
  {
   "cell_type": "code",
   "execution_count": 14,
   "metadata": {},
   "outputs": [],
   "source": [
    "# loss function and its derivative\n",
    "def mse(y_true, y_pred):\n",
    "    return np.mean(np.power(y_true-y_pred, 2))\n",
    "\n",
    "def mse_prime(y_true, y_pred):\n",
    "    return 2*(y_pred-y_true)/y_true.size;"
   ]
  },
  {
   "cell_type": "code",
   "execution_count": 15,
   "metadata": {},
   "outputs": [],
   "source": [
    "class Network:\n",
    "    def __init__(self):\n",
    "        self.layers = []\n",
    "        self.loss = None\n",
    "        self.loss_prime = None\n",
    "\n",
    "    # add layer to network\n",
    "    def add(self, layer):\n",
    "        self.layers.append(layer)\n",
    "\n",
    "    # set loss to use\n",
    "    def use(self, loss, loss_prime):\n",
    "        self.loss = loss\n",
    "        self.loss_prime = loss_prime\n",
    "\n",
    "    # predict output for given input\n",
    "    def predict(self, input_data):\n",
    "        # sample dimension first\n",
    "        samples = len(input_data)\n",
    "        result = []\n",
    "\n",
    "        # run network over all samples\n",
    "        for i in range(samples):\n",
    "            # forward propagation\n",
    "            output = input_data[i]\n",
    "            for layer in self.layers:\n",
    "                output = layer.forward_propagation(output)\n",
    "            result.append(output)\n",
    "\n",
    "        return result\n",
    "\n",
    "    # train the network\n",
    "    def fit(self, x_train, y_train, epochs, learning_rate):\n",
    "        # sample dimension first\n",
    "        samples = len(x_train)\n",
    "\n",
    "        # training loop\n",
    "        for i in range(epochs):\n",
    "            err = 0\n",
    "            for j in range(samples):\n",
    "                # forward propagation\n",
    "                output = x_train[j]\n",
    "                for layer in self.layers:\n",
    "                    output = layer.forward_propagation(output)\n",
    "\n",
    "                # compute loss (for display purpose only)\n",
    "                err += self.loss(y_train[j], output)\n",
    "\n",
    "                # backward propagation\n",
    "                error = self.loss_prime(y_train[j], output)\n",
    "                for layer in reversed(self.layers):\n",
    "                    error = layer.backward_propagation(error, learning_rate)\n",
    "\n",
    "            # calculate average error on all samples\n",
    "            err /= samples\n",
    "            print('epoch %d/%d   error=%f' % (i+1, epochs, err))\n",
    "    \n",
    "    def save(self, fname):\n",
    "        import pickle\n",
    "        with open(fname, \"bw\") as fh:\n",
    "            pickle.dump(self, fh)\n",
    "\n",
    "    @classmethod\n",
    "    def load(cls, fname):\n",
    "        import pickle\n",
    "        with open(fname, \"br\") as fh:\n",
    "            return pickle.load(fh)"
   ]
  },
  {
   "cell_type": "code",
   "execution_count": 23,
   "metadata": {},
   "outputs": [],
   "source": [
    "# Network\n",
    "net = Network()\n",
    "net.use(mse, mse_prime)\n",
    "net.add(FCLayer(train_imgs.shape[2], 80))\n",
    "net.add(TanhLayer())\n",
    "net.add(FCLayer(80, 40)) \n",
    "net.add(TanhLayer())\n",
    "net.add(FCLayer(40, 20)) \n",
    "net.add(TanhLayer())\n",
    "net.add(FCLayer(20, train_labels_one_hot.shape[1]))"
   ]
  },
  {
   "cell_type": "code",
   "execution_count": 24,
   "metadata": {},
   "outputs": [
    {
     "name": "stdout",
     "output_type": "stream",
     "text": [
      "epoch 1/5   error=0.026806\n",
      "epoch 2/5   error=0.013058\n",
      "epoch 3/5   error=0.010238\n",
      "epoch 4/5   error=0.008642\n",
      "epoch 5/5   error=0.007529\n",
      "epoch 1/5   error=0.005223\n",
      "epoch 2/5   error=0.004887\n",
      "epoch 3/5   error=0.004738\n",
      "epoch 4/5   error=0.004619\n",
      "epoch 5/5   error=0.004515\n",
      "epoch 1/5   error=0.004330\n",
      "epoch 2/5   error=0.004300\n",
      "epoch 3/5   error=0.004286\n",
      "epoch 4/5   error=0.004274\n",
      "epoch 5/5   error=0.004263\n"
     ]
    }
   ],
   "source": [
    "#Do NOT DO THIS ON THE PYNQ!\n",
    "net.fit(train_imgs,train_labels_one_hot, epochs=5, learning_rate=0.1)\n",
    "net.fit(train_imgs,train_labels_one_hot, epochs=5, learning_rate=0.01)\n",
    "net.fit(train_imgs,train_labels_one_hot, epochs=5, learning_rate=0.001)"
   ]
  },
  {
   "cell_type": "code",
   "execution_count": 25,
   "metadata": {},
   "outputs": [],
   "source": [
    "def evaluate(net, data, labels):\n",
    "    corrects, wrongs = 0, 0\n",
    "    for i in range(len(data)):\n",
    "        res = np.array(net.predict(data[i]))\n",
    "        res = res.argmax()\n",
    "        if res == labels[i]:\n",
    "            corrects += 1\n",
    "        else:\n",
    "            wrongs += 1\n",
    "    return corrects, wrongs"
   ]
  },
  {
   "cell_type": "code",
   "execution_count": 26,
   "metadata": {},
   "outputs": [
    {
     "name": "stdout",
     "output_type": "stream",
     "text": [
      "accruracy train:  0.9741995699928332\n"
     ]
    }
   ],
   "source": [
    "corrects, wrongs = evaluate(net, train_imgs, train_labels)\n",
    "print(\"accruracy train: \", corrects / ( corrects + wrongs))"
   ]
  },
  {
   "cell_type": "code",
   "execution_count": 27,
   "metadata": {},
   "outputs": [
    {
     "name": "stdout",
     "output_type": "stream",
     "text": [
      "accruracy train:  0.9565956595659566\n"
     ]
    }
   ],
   "source": [
    "corrects, wrongs = evaluate(net, test_imgs, test_labels)\n",
    "print(\"accruracy train: \", corrects / ( corrects + wrongs))"
   ]
  },
  {
   "cell_type": "code",
   "execution_count": 28,
   "metadata": {},
   "outputs": [],
   "source": [
    "net.save('network.pkl')"
   ]
  },
  {
   "cell_type": "code",
   "execution_count": null,
   "metadata": {},
   "outputs": [],
   "source": []
  }
 ],
 "metadata": {
  "kernelspec": {
   "display_name": "Python 3",
   "language": "python",
   "name": "python3"
  },
  "language_info": {
   "codemirror_mode": {
    "name": "ipython",
    "version": 3
   },
   "file_extension": ".py",
   "mimetype": "text/x-python",
   "name": "python",
   "nbconvert_exporter": "python",
   "pygments_lexer": "ipython3",
   "version": "3.6.5"
  }
 },
 "nbformat": 4,
 "nbformat_minor": 4
}
