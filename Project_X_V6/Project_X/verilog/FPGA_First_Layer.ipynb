{
 "cells": [
  {
   "cell_type": "code",
   "execution_count": 1,
   "metadata": {},
   "outputs": [],
   "source": [
    "%matplotlib inline\n",
    "import cProfile\n",
    "import json\n",
    "import numpy as np\n",
    "import matplotlib.pyplot as plt\n",
    "import os\n",
    "import pandas as pd\n",
    "from scipy.stats import truncnorm\n",
    "import timeit"
   ]
  },
  {
   "cell_type": "code",
   "execution_count": 2,
   "metadata": {},
   "outputs": [],
   "source": [
    "image_size = 28 # width and length\n",
    "no_of_different_labels = 10 #  i.e. 0, 1, 2, 3, ..., 9\n",
    "image_pixels = image_size * image_size\n",
    "data_path = \"./../data/\""
   ]
  },
  {
   "cell_type": "markdown",
   "metadata": {},
   "source": [
    "## Load and visualize the data"
   ]
  },
  {
   "cell_type": "code",
   "execution_count": 3,
   "metadata": {},
   "outputs": [],
   "source": [
    "test_data = pd.read_csv(data_path + \"mnist_test.1k.csv\", delimiter=\",\").values\n",
    "\n",
    "fac = 0.99 / 255\n",
    "test_imgs = np.asfarray(test_data[:, 1:], dtype=np.float32) * fac + 0.01\n",
    "test_imgs = test_imgs.reshape(test_imgs.shape[0], 1, test_imgs.shape[1])\n",
    "\n",
    "test_labels = np.asfarray(test_data[:, :1], dtype=np.float32)\n",
    "\n",
    "lr = np.arange(no_of_different_labels)\n",
    "# transform labels into one hot representation\n",
    "test_labels_one_hot = (lr==test_labels).astype(np.float32)\n",
    "\n",
    "# we don't want zeroes and ones in the labels neither:\n",
    "test_labels_one_hot[test_labels_one_hot==0] = 0.001\n",
    "test_labels_one_hot[test_labels_one_hot==1] = 0.999"
   ]
  },
  {
   "cell_type": "code",
   "execution_count": 4,
   "metadata": {},
   "outputs": [],
   "source": [
    "# Base class\n",
    "class Layer:\n",
    "    def __init__(self):\n",
    "        self.input = None\n",
    "        self.output = None\n",
    "\n",
    "    # computes the output Y of a layer for a given input X\n",
    "    def forward_propagation(self, input):\n",
    "        raise NotImplementedError\n",
    "\n",
    "    # computes dE/dX for a given dE/dY (and update parameters if any)\n",
    "    def backward_propagation(self, output_error, learning_rate):\n",
    "        raise NotImplementedError"
   ]
  },
  {
   "cell_type": "code",
   "execution_count": 5,
   "metadata": {},
   "outputs": [],
   "source": [
    "# inherit from base class Layer\n",
    "class FCLayer(Layer):\n",
    "    # input_size = number of input neurons\n",
    "    # output_size = number of output neurons\n",
    "    def __init__(self, input_size, output_size):\n",
    "        self.weights = np.random.rand(input_size, output_size) - 0.5\n",
    "        self.bias = np.random.rand(1, output_size) - 0.5\n",
    "\n",
    "    # returns output for a given input\n",
    "    def forward_propagation(self, input_data):\n",
    "        self.input = input_data\n",
    "        self.output = np.dot(self.input, self.weights) + self.bias\n",
    "        return self.output\n",
    "\n",
    "    # computes dE/dW, dE/dB for a given output_error=dE/dY. Returns input_error=dE/dX.\n",
    "    def backward_propagation(self, output_error, learning_rate):\n",
    "        input_error = np.dot(output_error, self.weights.T)\n",
    "        weights_error = np.dot(self.input.T, output_error)\n",
    "        # dBias = output_error\n",
    "\n",
    "        # update parameters\n",
    "        self.weights -= learning_rate * weights_error\n",
    "        self.bias -= learning_rate * output_error\n",
    "        return input_error"
   ]
  },
  {
   "cell_type": "code",
   "execution_count": 6,
   "metadata": {},
   "outputs": [],
   "source": [
    "# inherit from base class Layer\n",
    "class ActivationLayer(Layer):\n",
    "    def __init__(self, activation, activation_prime):\n",
    "        self.activation = activation\n",
    "        self.activation_prime = activation_prime\n",
    "\n",
    "    # returns the activated input\n",
    "    def forward_propagation(self, input_data):\n",
    "        self.input = input_data\n",
    "        self.output = self.activation(self.input)\n",
    "        return self.output\n",
    "\n",
    "    # Returns input_error=dE/dX for a given output_error=dE/dY.\n",
    "    # learning_rate is not used because there is no \"learnable\" parameters.\n",
    "    def backward_propagation(self, output_error, learning_rate):\n",
    "        return self.activation_prime(self.input) * output_error"
   ]
  },
  {
   "cell_type": "code",
   "execution_count": 7,
   "metadata": {},
   "outputs": [],
   "source": [
    "class TanhLayer(ActivationLayer):\n",
    "    # static\n",
    "    e = 2.71828182845904523536028747135266249775724709369995\n",
    "    \n",
    "    #http://www.plunk.org/~hatch/rightway.php\n",
    "    #https://math.stackexchange.com/questions/518758/alternative-form-for-sinhx-coshx\n",
    "    @staticmethod\n",
    "    def tanh(x):   \n",
    "        e = TanhLayer.e\n",
    "        return (1 - e ** (-2 * x)) / (1 + e ** (-2 * x)) \n",
    "        #return (1-np.exp(-2 * x))/(1+np.exp(-2 * x))\n",
    "\n",
    "    @staticmethod\n",
    "    def tanh_prime(x):\n",
    "        return 1-TanhLayer.tanh(x)**2\n",
    "    \n",
    "    def __init__(self):\n",
    "        super(TanhLayer,self).__init__(self.tanh, self.tanh_prime)\n",
    "    "
   ]
  },
  {
   "cell_type": "code",
   "execution_count": 8,
   "metadata": {},
   "outputs": [],
   "source": [
    "# loss function and its derivative\n",
    "def mse(y_true, y_pred):\n",
    "    return np.mean(np.power(y_true-y_pred, 2))\n",
    "\n",
    "def mse_prime(y_true, y_pred):\n",
    "    return 2*(y_pred-y_true)/y_true.size;"
   ]
  },
  {
   "cell_type": "code",
   "execution_count": 9,
   "metadata": {},
   "outputs": [],
   "source": [
    "class Network:\n",
    "    def __init__(self):\n",
    "        self.layers = []\n",
    "        self.loss = None\n",
    "        self.loss_prime = None\n",
    "\n",
    "    # add layer to network\n",
    "    def add(self, layer):\n",
    "        self.layers.append(layer)\n",
    "\n",
    "    # set loss to use\n",
    "    def use(self, loss, loss_prime):\n",
    "        self.loss = loss\n",
    "        self.loss_prime = loss_prime\n",
    "\n",
    "    # predict output for given input\n",
    "    def predict(self, input_data):\n",
    "        # sample dimension first\n",
    "        samples = len(input_data)\n",
    "        result = []\n",
    "\n",
    "        # run network over all samples\n",
    "        for i in range(samples):\n",
    "            # forward propagation\n",
    "            output = input_data[i]\n",
    "            for layer in self.layers:\n",
    "                output = layer.forward_propagation(output)\n",
    "#             print(output)\n",
    "            result.append(output)\n",
    "            \n",
    "\n",
    "        return result\n",
    "    \n",
    "    def save(self, fname):\n",
    "        import pickle\n",
    "        with open(fname, \"bw\") as fh:\n",
    "            pickle.dump(self, fh)\n",
    "\n",
    "    @classmethod\n",
    "    def load(cls, fname):\n",
    "        import pickle\n",
    "        with open(fname, \"br\") as fh:\n",
    "            return pickle.load(fh)"
   ]
  },
  {
   "cell_type": "code",
   "execution_count": 10,
   "metadata": {},
   "outputs": [],
   "source": [
    "net = Network.load('../network.pkl')\n"
   ]
  },
  {
   "cell_type": "code",
   "execution_count": 11,
   "metadata": {},
   "outputs": [
    {
     "name": "stdout",
     "output_type": "stream",
     "text": [
      "(784,)\n",
      "(1, 80)\n",
      "(1, 20)\n",
      "(1, 10)\n"
     ]
    }
   ],
   "source": [
    "first_layer = net.layers[0]\n",
    "print (first_layer.input.shape)\n",
    "print (first_layer.output.shape)\n",
    "\n",
    "second_layer = net.layers[6]\n",
    "print (second_layer.input.shape)\n",
    "print (second_layer.output.shape)"
   ]
  },
  {
   "cell_type": "code",
   "execution_count": 12,
   "metadata": {},
   "outputs": [
    {
     "data": {
      "application/javascript": [
       "\n",
       "require(['notebook/js/codecell'], function(codecell) {\n",
       "  codecell.CodeCell.options_default.highlight_modes[\n",
       "      'magic_text/x-csrc'] = {'reg':[/^%%microblaze/]};\n",
       "  Jupyter.notebook.events.one('kernel_ready.Kernel', function(){\n",
       "      Jupyter.notebook.get_cells().map(function(cell){\n",
       "          if (cell.cell_type == 'code'){ cell.auto_highlight(); } }) ;\n",
       "  });\n",
       "});\n"
      ]
     },
     "metadata": {},
     "output_type": "display_data"
    }
   ],
   "source": [
    "# Now we start new code\n",
    "from pynq import Xlnk\n",
    "from pynq import Overlay"
   ]
  },
  {
   "cell_type": "code",
   "execution_count": 13,
   "metadata": {},
   "outputs": [],
   "source": [
    "class hardwareLayer(Layer):\n",
    "    def __init__(self, bit, input_sz, output_sz):\n",
    "        self.overlay = Overlay(bit)\n",
    "        self.dma = self.overlay.axi_dma_0\n",
    "        \n",
    "        xlnk = Xlnk()        \n",
    "        self.input_buffer = xlnk.cma_array(\n",
    "                                shape=(input_sz,), \n",
    "                                dtype=np.float32)\n",
    "        self.output_buffer = xlnk.cma_array(\n",
    "                                shape=(output_sz,),\n",
    "                                dtype=np.float32)\n",
    "        \n",
    "    def forward_propagation(self, input):\n",
    "        raise NotImplementedError\n",
    "\n",
    "    \n",
    "class firstLayer(hardwareLayer):\n",
    "    def forward_propagation(self, input):\n",
    "        # use this for first layer\n",
    "        np.copyto(self.input_buffer, input)\n",
    "\n",
    "        self.dma.sendchannel.transfer(self.input_buffer)    \n",
    "        self.dma.recvchannel.transfer(self.output_buffer)\n",
    "        \n",
    "        self.dma.sendchannel.wait()\n",
    "        self.dma.recvchannel.wait()\n",
    "        \n",
    "        #output expects a [1,output_sz] matrix (not vector)\n",
    "        return self.output_buffer.reshape(\n",
    "                                1, len(self.output_buffer))\n",
    "    \n",
    "class intermediateLayer(hardwareLayer):\n",
    "    def forward_propagation(self, input):\n",
    "        # use this for other layers\n",
    "        np.copyto(self.input_buffer,  input[0])\n",
    "\n",
    "        self.dma.sendchannel.transfer(self.input_buffer)    \n",
    "        self.dma.recvchannel.transfer(self.output_buffer)\n",
    "        \n",
    "        self.dma.sendchannel.wait()\n",
    "        self.dma.recvchannel.wait()\n",
    "        \n",
    "        #output expects a [1,output_sz] matrix (not vector)\n",
    "        return self.output_buffer.reshape(\n",
    "                                1, len(self.output_buffer))"
   ]
  },
  {
   "cell_type": "code",
   "execution_count": 14,
   "metadata": {},
   "outputs": [
    {
     "name": "stdout",
     "output_type": "stream",
     "text": [
      "Net1 Name: FCLayer\tNet2 Name: firstLayer\n"
     ]
    }
   ],
   "source": [
    "net2 = Network()\n",
    "\n",
    "# 784 and 10 are hardcoded in bitstream\n",
    "net2.layers.append(firstLayer('bitstreams/784_10.bit', 784, 10))\n",
    "\n",
    "# copy all but first layer over to new network\n",
    "# for layer in net.layers[4:]:\n",
    "#     net2.layers.append(layer)\n",
    "    \n",
    "# 20 and 10 are hardcoded in bitstream\n",
    "# net2.layers.append(hardwareLayer('last_layer.bit', 20, 10))\n",
    "\n",
    "for lay1,lay2 in zip(net.layers, net2.layers):\n",
    "    print (\"Net1 Name: \" + str(lay1.__class__.__name__) + \"\\t\" +\n",
    "            \"Net2 Name: \" + str(lay2.__class__.__name__))\n",
    "\n"
   ]
  },
  {
   "cell_type": "code",
   "execution_count": 15,
   "metadata": {},
   "outputs": [
    {
     "name": "stdout",
     "output_type": "stream",
     "text": [
      "1\n"
     ]
    }
   ],
   "source": [
    "print(len(net2.layers))"
   ]
  },
  {
   "cell_type": "code",
   "execution_count": 16,
   "metadata": {},
   "outputs": [],
   "source": [
    "def evaluate(net, data, labels):\n",
    "    corrects, wrongs = 0, 0\n",
    "    for i in range(len(data)):\n",
    "        res = np.array(net.predict(data[i]))\n",
    "        res = res.argmax()\n",
    "        if res == labels[i]:\n",
    "            corrects += 1\n",
    "        else:\n",
    "            wrongs += 1\n",
    "    return corrects, wrongs"
   ]
  },
  {
   "cell_type": "code",
   "execution_count": 17,
   "metadata": {},
   "outputs": [
    {
     "name": "stdout",
     "output_type": "stream",
     "text": [
      "accuracy train:  0.954\n",
      "Run Time: 2.1707622820104007 Seconds\n"
     ]
    }
   ],
   "source": [
    "start = timeit.default_timer()\n",
    "\n",
    "corrects, wrongs = evaluate(net, test_imgs, test_labels)\n",
    "\n",
    "stop = timeit.default_timer()\n",
    "print(\"accuracy train: \", corrects / ( corrects + wrongs))\n",
    "print('Run Time: ' + str(stop - start) + ' Seconds')  \n"
   ]
  },
  {
   "cell_type": "code",
   "execution_count": 18,
   "metadata": {},
   "outputs": [
    {
     "name": "stdout",
     "output_type": "stream",
     "text": [
      "accuracy train:  0.955\n",
      "Run Time: 1.1567477360076737 Seconds\n"
     ]
    }
   ],
   "source": [
    "start = timeit.default_timer()\n",
    "\n",
    "corrects, wrongs = evaluate(net2, test_imgs, test_labels)\n",
    "\n",
    "stop = timeit.default_timer()\n",
    "print(\"accuracy train: \", corrects / ( corrects + wrongs))\n",
    "print('Run Time: ' + str(stop - start) + ' Seconds')  "
   ]
  },
  {
   "cell_type": "code",
   "execution_count": null,
   "metadata": {},
   "outputs": [],
   "source": []
  }
 ],
 "metadata": {
  "kernelspec": {
   "display_name": "Python 3",
   "language": "python",
   "name": "python3"
  },
  "language_info": {
   "codemirror_mode": {
    "name": "ipython",
    "version": 3
   },
   "file_extension": ".py",
   "mimetype": "text/x-python",
   "name": "python",
   "nbconvert_exporter": "python",
   "pygments_lexer": "ipython3",
   "version": "3.6.5"
  }
 },
 "nbformat": 4,
 "nbformat_minor": 4
}
