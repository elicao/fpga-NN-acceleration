{
 "cells": [
  {
   "cell_type": "code",
   "execution_count": 1,
   "metadata": {},
   "outputs": [
    {
     "data": {
      "application/javascript": [
       "\n",
       "require(['notebook/js/codecell'], function(codecell) {\n",
       "  codecell.CodeCell.options_default.highlight_modes[\n",
       "      'magic_text/x-csrc'] = {'reg':[/^%%microblaze/]};\n",
       "  Jupyter.notebook.events.one('kernel_ready.Kernel', function(){\n",
       "      Jupyter.notebook.get_cells().map(function(cell){\n",
       "          if (cell.cell_type == 'code'){ cell.auto_highlight(); } }) ;\n",
       "  });\n",
       "});\n"
      ]
     },
     "metadata": {},
     "output_type": "display_data"
    },
    {
     "name": "stdout",
     "output_type": "stream",
     "text": [
      "Weights:\n",
      " [[  1.   2.   3.   4.]\n",
      " [  5.   6.   7.   8.]\n",
      " [  9.  10.  11.  12.]]\n",
      "Inputs:\n",
      " [[ 0.1         0.2         0.30000001]]\n",
      "Bias: \n",
      " [-2.20000005 -3.32999992 -4.44399977 -5.55550003]\n",
      "Dot Product:\n",
      " [[ 3.80000019  4.4000001   5.          5.60000038]]\n",
      "Biased Products:\n",
      " [[ 1.60000014  1.07000017  0.55600023  0.04450035]]\n",
      "Output:\n",
      " [[ 0.92166859  0.78946131  0.50500375  0.044471  ]]\n",
      "FPGA Output:\n",
      " [[ 0.92072231  0.79824275  0.48633602  0.03123983]]\n"
     ]
    }
   ],
   "source": [
    "import numpy as np\n",
    "import timeit as tt\n",
    "\n",
    "from pynq import Xlnk\n",
    "from pynq import Overlay\n",
    "\n",
    "weights = np.array( [[1,2,3,4],[5,6,7,8],[9,10,11,12]], dtype=np.float32)\n",
    "inputs = np.array([[0.1,0.2,0.3]], dtype=np.float32)\n",
    "bias = np.array([-2.2, -3.33, -4.444, -5.5555], dtype=np.float32)\n",
    "dots = np.dot(inputs,weights)\n",
    "b_dots = dots + bias \n",
    "outs = np.tanh(b_dots)\n",
    "\n",
    "print (\"Weights:\\n\", weights)\n",
    "print (\"Inputs:\\n\", inputs)\n",
    "print (\"Bias: \\n\", bias)\n",
    "print (\"Dot Product:\\n\", dots)\n",
    "print (\"Biased Products:\\n\", b_dots)\n",
    "print (\"Output:\\n\", outs)\n",
    "\n",
    "overlay = Overlay('test.bit')\n",
    "dma = overlay.axi_dma_0\n",
    "xlnk = Xlnk()\n",
    "\n",
    "input_buffer = xlnk.cma_array(shape=(len(inputs[0]),), dtype=np.float32)\n",
    "np.copyto(input_buffer,  inputs[0])\n",
    "output_buffer = xlnk.cma_array(shape=(len(outs[0]),), dtype=np.float32)\n",
    "\n",
    "dma.sendchannel.transfer(input_buffer)    \n",
    "dma.recvchannel.transfer(output_buffer)\n",
    "\n",
    "dma.sendchannel.wait()\n",
    "dma.recvchannel.wait()\n",
    "\n",
    "output_buffer = output_buffer.reshape(1, len(output_buffer))\n",
    "\n",
    "print (\"FPGA Output:\\n\", output_buffer)"
   ]
  },
  {
   "cell_type": "code",
   "execution_count": null,
   "metadata": {},
   "outputs": [],
   "source": []
  }
 ],
 "metadata": {
  "kernelspec": {
   "display_name": "Python 3",
   "language": "python",
   "name": "python3"
  },
  "language_info": {
   "codemirror_mode": {
    "name": "ipython",
    "version": 3
   },
   "file_extension": ".py",
   "mimetype": "text/x-python",
   "name": "python",
   "nbconvert_exporter": "python",
   "pygments_lexer": "ipython3",
   "version": "3.6.5"
  }
 },
 "nbformat": 4,
 "nbformat_minor": 2
}
