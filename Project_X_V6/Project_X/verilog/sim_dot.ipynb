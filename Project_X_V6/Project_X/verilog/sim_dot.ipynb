{
 "cells": [
  {
   "cell_type": "code",
   "execution_count": 2,
   "metadata": {},
   "outputs": [],
   "source": [
    "%matplotlib inline\n",
    "import numpy as np\n",
    "import matplotlib.pyplot as plt\n",
    "import pandas as pd"
   ]
  },
  {
   "cell_type": "code",
   "execution_count": 25,
   "metadata": {},
   "outputs": [
    {
     "name": "stdout",
     "output_type": "stream",
     "text": [
      "Weights (Shape):\n",
      " (3, 4)\n",
      "Weights:\n",
      " [[ 1.  2.  3.  4.]\n",
      " [ 5.  6.  7.  8.]\n",
      " [ 9. 10. 11. 12.]]\n",
      "Inputs:\n",
      " [[0.1 0.2 0.3]]\n",
      "Dot Product:\n",
      " [1.4000001 2.6       5.        6.8      ]\n",
      "Output:\n",
      " [[3.8000002 4.4       5.        5.6000004]]\n"
     ]
    }
   ],
   "source": [
    "weights = np.array( [[1,2,3,4],[5,6,7,8],[9,10,11,12]], dtype=np.float32)\n",
    "inputs = np.array([[0.1,0.2,0.3]], dtype=np.float32)\n",
    "outs = np.dot(inputs, weights)\n",
    "\n",
    "\n",
    "print (\"Weights (Shape):\\n\", weights.shape)\n",
    "print (\"Weights:\\n\", weights)\n",
    "print (\"Inputs:\\n\", inputs)\n",
    "print (\"Dot Product:\\n\", dots)\n",
    "print (\"Output:\\n\", outs)"
   ]
  },
  {
   "cell_type": "code",
   "execution_count": 21,
   "metadata": {},
   "outputs": [
    {
     "name": "stdout",
     "output_type": "stream",
     "text": [
      "[3.8000002 4.4       5.        5.6000004]\n",
      "[3.8000002 4.4       5.        5.6000004]\n"
     ]
    }
   ],
   "source": [
    "# how its done in dot.sv\n",
    "def dot(inputs,weights):\n",
    "    outs = np.zeros(weights.shape[1], dtype=np.float32)\n",
    "    for i in range(weights.shape[0]): # input length\n",
    "        for j in range(weights.shape[1]): # output length\n",
    "            outs[j] = outs[j] + weights[i][j] * inputs[i]\n",
    "    return outs\n",
    "\n",
    "# my results\n",
    "print (dot(inputs[0],weights))\n",
    "# reference results\n",
    "print (outs[0])"
   ]
  },
  {
   "cell_type": "code",
   "execution_count": 15,
   "metadata": {},
   "outputs": [
    {
     "name": "stdout",
     "output_type": "stream",
     "text": [
      "localparam ROWS = 3,\n",
      "localparam COLS = 4,\n",
      "\n",
      "//weights:\n",
      "//[[ 1.  2.  3.  4.]\n",
      "// [ 5.  6.  7.  8.]\n",
      "// [ 9. 10. 11. 12.]]\n",
      "localparam [31:0] weights [0:ROWS-1] [0:COLS-1] = '{\n",
      "\t'{32'h3f800000,32'h40000000,32'h40400000,32'h40800000},\n",
      "\t'{32'h40a00000,32'h40c00000,32'h40e00000,32'h41000000},\n",
      "\t'{32'h41100000,32'h41200000,32'h41300000,32'h41400000}\n",
      "}\n"
     ]
    }
   ],
   "source": [
    "import numpy as np\n",
    "import struct\n",
    "\n",
    "def flt_to_hex(f):\n",
    "    return hex(struct.unpack('<I', struct.pack('<f', f))[0])\n",
    "\n",
    "weights = np.array( [[1,2,3,4],[5,6,7,8],[9,10,11,12]], dtype=np.float32)\n",
    "inputs = np.array([[0.1,0.2,0.3]], dtype=np.float32)\n",
    "outs = np.dot(inputs, weights)\n",
    "print ('localparam ROWS = %d,' %weights.shape[0])\n",
    "print ('localparam COLS = %d,' %weights.shape[1])\n",
    "print ()\n",
    "print ('//weights:\\n//' + str(weights).replace('\\n', '\\n//'))\n",
    "#flts_str = list(map('\"{:2.4f}\"'.format, flts))\n",
    "print ('localparam [31:0] weights [0:ROWS-1] [0:COLS-1] = \\'{')\n",
    "for i in range(weights.shape[0]):\n",
    "    flts_hex = list(map(lambda x: '32\\'h' + flt_to_hex(x)[2:], weights[i]))\n",
    "    print ('\\t\\'{' + ','.join(flts_hex)  + '}', end='')\n",
    "    print (',' if i < weights.shape[0]-1 else '')\n",
    "print ('}')\n",
    "    "
   ]
  },
  {
   "cell_type": "code",
   "execution_count": null,
   "metadata": {},
   "outputs": [],
   "source": [
    "# Used in sim_dot testbench"
   ]
  },
  {
   "cell_type": "code",
   "execution_count": 23,
   "metadata": {},
   "outputs": [
    {
     "name": "stdout",
     "output_type": "stream",
     "text": [
      "static bit [31:0] fpHex [0:2] = {\n",
      " 32'h3dcccccd, 32'h3e4ccccd, 32'h3e99999a \n",
      "};\n",
      "static string fpAscii [0:2] = {\n",
      " \"0.1000\", \"0.2000\", \"0.3000\" \n",
      "};\n",
      "static int MAX_SIZE = 3;\n"
     ]
    }
   ],
   "source": [
    "import numpy as np\n",
    "import struct\n",
    "\n",
    "def flt_to_hex(f):\n",
    "    return hex(struct.unpack('<I', struct.pack('<f', f))[0])\n",
    "\n",
    "weights = np.array( [[1,2,3,4],[5,6,7,8],[9,10,11,12]], dtype=np.float32)\n",
    "inputs = np.array([[0.1,0.2,0.3]], dtype=np.float32)\n",
    "outs = np.dot(inputs, weights)\n",
    "\n",
    "flts = inputs[0]\n",
    "flts_hex = list(map(lambda x: '32\\'h' + flt_to_hex(x)[2:], flts))\n",
    "flts_str = list(map('\"{:2.4f}\"'.format, flts))\n",
    "offset=6\n",
    "print ('static bit [31:0] fpHex [0:' + str(len(flts)-1) + '] = {')\n",
    "for i in range(0, len(flts), offset):\n",
    "    print (' ' + ', '.join(flts_hex[i:i+offset] ), end='')\n",
    "    print (',' if i < len(flts) - offset else ' ')\n",
    "print ('};') \n",
    "print ('static string fpAscii [0:' + str(len(flts)-1) + '] = {')\n",
    "for i in range(0, len(flts), offset):\n",
    "    print (' ' + ', '.join(flts_str[i:i+offset]), end='')\n",
    "    print (',' if i < len(flts) - offset else ' ')\n",
    "print ('};')\n",
    "print ('static int MAX_SIZE = %d;' % len(flts))  "
   ]
  },
  {
   "cell_type": "code",
   "execution_count": 24,
   "metadata": {},
   "outputs": [
    {
     "name": "stdout",
     "output_type": "stream",
     "text": [
      "static bit [31:0] fpHex [0:3] = {\n",
      " 32'h40733334, 32'h408ccccd, 32'h40a00000, 32'h40b33334 \n",
      "};\n",
      "static string fpAscii [0:3] = {\n",
      " \"3.8000\", \"4.4000\", \"5.0000\", \"5.6000\" \n",
      "};\n",
      "static int MAX_SIZE = 4;\n"
     ]
    }
   ],
   "source": [
    "import numpy as np\n",
    "import struct\n",
    "\n",
    "def flt_to_hex(f):\n",
    "    return hex(struct.unpack('<I', struct.pack('<f', f))[0])\n",
    "\n",
    "weights = np.array( [[1,2,3,4],[5,6,7,8],[9,10,11,12]], dtype=np.float32)\n",
    "inputs = np.array([[0.1,0.2,0.3]], dtype=np.float32)\n",
    "outs = np.dot(inputs, weights)\n",
    "\n",
    "flts = outs[0]\n",
    "flts_hex = list(map(lambda x: '32\\'h' + flt_to_hex(x)[2:], flts))\n",
    "flts_str = list(map('\"{:2.4f}\"'.format, flts))\n",
    "offset=6\n",
    "print ('static bit [31:0] fpHex [0:' + str(len(flts)-1) + '] = {')\n",
    "for i in range(0, len(flts), offset):\n",
    "    print (' ' + ', '.join(flts_hex[i:i+offset] ), end='')\n",
    "    print (',' if i < len(flts) - offset else ' ')\n",
    "print ('};') \n",
    "print ('static string fpAscii [0:' + str(len(flts)-1) + '] = {')\n",
    "for i in range(0, len(flts), offset):\n",
    "    print (' ' + ', '.join(flts_str[i:i+offset]), end='')\n",
    "    print (',' if i < len(flts) - offset else ' ')\n",
    "print ('};')\n",
    "print ('static int MAX_SIZE = %d;' % len(flts)) "
   ]
  },
  {
   "cell_type": "code",
   "execution_count": null,
   "metadata": {},
   "outputs": [],
   "source": []
  },
  {
   "cell_type": "code",
   "execution_count": null,
   "metadata": {},
   "outputs": [],
   "source": []
  },
  {
   "cell_type": "code",
   "execution_count": null,
   "metadata": {},
   "outputs": [],
   "source": []
  }
 ],
 "metadata": {
  "kernelspec": {
   "display_name": "Python 3",
   "language": "python",
   "name": "python3"
  },
  "language_info": {
   "codemirror_mode": {
    "name": "ipython",
    "version": 3
   },
   "file_extension": ".py",
   "mimetype": "text/x-python",
   "name": "python",
   "nbconvert_exporter": "python",
   "pygments_lexer": "ipython3",
   "version": "3.6.5"
  }
 },
 "nbformat": 4,
 "nbformat_minor": 4
}
