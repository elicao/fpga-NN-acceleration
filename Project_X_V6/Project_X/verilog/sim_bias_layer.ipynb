{
 "cells": [
  {
   "cell_type": "code",
   "execution_count": 2,
   "metadata": {},
   "outputs": [],
   "source": [
    "%matplotlib inline\n",
    "import numpy as np\n",
    "import matplotlib.pyplot as plt\n",
    "import pandas as pd"
   ]
  },
  {
   "cell_type": "code",
   "execution_count": 3,
   "metadata": {},
   "outputs": [
    {
     "name": "stdout",
     "output_type": "stream",
     "text": [
      "Weights:\n",
      " [[ 1.  2.  3.  4.]\n",
      " [ 5.  6.  7.  8.]\n",
      " [ 9. 10. 11. 12.]]\n",
      "Inputs:\n",
      " [[0.1 0.2 0.3]]\n",
      "Bias: \n",
      " [-2.2    -3.33   -4.444  -5.5555]\n",
      "Dot Product:\n",
      " [[3.8000002 4.4       5.        5.6000004]]\n",
      "Biased Products:\n",
      " [[1.6000001  1.0700002  0.55600023 0.04450035]]\n",
      "Output:\n",
      " [[0.9216686  0.7894613  0.50500375 0.044471  ]]\n"
     ]
    }
   ],
   "source": [
    "weights = np.array( [[1,2,3,4],[5,6,7,8],[9,10,11,12]], dtype=np.float32)\n",
    "inputs = np.array([[0.1,0.2,0.3]], dtype=np.float32)\n",
    "bias = np.array([-2.2, -3.33, -4.444, -5.5555], dtype=np.float32)\n",
    "dots = np.dot(inputs,weights)\n",
    "b_dots = dots + bias \n",
    "outs = np.tanh(b_dots)\n",
    "\n",
    "print (\"Weights:\\n\", weights)\n",
    "print (\"Inputs:\\n\", inputs)\n",
    "print (\"Bias: \\n\", bias)\n",
    "print (\"Dot Product:\\n\", dots)\n",
    "print (\"Biased Products:\\n\", b_dots)\n",
    "print (\"Output:\\n\", outs)"
   ]
  },
  {
   "cell_type": "code",
   "execution_count": 11,
   "metadata": {},
   "outputs": [
    {
     "name": "stdout",
     "output_type": "stream",
     "text": [
      "parameter NUM_VALUES = 4,\n",
      "parameter [31:0] VALUES [0:NUM_VALUES-1] = {\n",
      "//-2.200000048, -3.329999924, -4.443999767, -5.555500031\n",
      "  32'hc00ccccd, 32'hc0551eb8, 32'hc08e353f, 32'hc0b1c6a8 \n",
      "}\n"
     ]
    }
   ],
   "source": [
    "import numpy as np\n",
    "import struct\n",
    "\n",
    "def flt_to_hex(f):\n",
    "    return hex(struct.unpack('<I', struct.pack('<f', f))[0])\n",
    "\n",
    "weights = np.array( [[1,2,3,4],[5,6,7,8],[9,10,11,12]], dtype=np.float32)\n",
    "inputs = np.array([[0.1,0.2,0.3]], dtype=np.float32)\n",
    "bias = np.array([-2.2, -3.33, -4.444, -5.5555], dtype=np.float32)\n",
    "dots = np.dot(inputs,weights)[0]\n",
    "b_dots = dots + bias \n",
    "outs = np.tanh(b_dots)\n",
    "\n",
    "flts = bias\n",
    "flts_hex = list(map(lambda x: '32\\'h' + flt_to_hex(x)[2:], flts))\n",
    "flts_str = list(map('{:+2.9f}'.format, flts))\n",
    "offset=6\n",
    "print ('parameter NUM_VALUES = %d,' % len(flts))\n",
    "print ('parameter [31:0] VALUES [0:NUM_VALUES-1] = {')\n",
    "for i in range(0, len(flts), offset):\n",
    "    print ('//' + ', '.join(flts_str[i:i+offset]), end='\\n')\n",
    "    print ('  ' + ', '.join(flts_hex[i:i+offset] ), end='')\n",
    "    print (',' if i < len(flts) - offset else ' ')\n",
    "print ('}') "
   ]
  },
  {
   "cell_type": "code",
   "execution_count": 10,
   "metadata": {},
   "outputs": [
    {
     "name": "stdout",
     "output_type": "stream",
     "text": [
      "static bit [31:0] fpHex [0:2] = {\n",
      " 32'h3dcccccd, 32'h3e4ccccd, 32'h3e99999a \n",
      "};\n",
      "static string fpAscii [0:2] = {\n",
      " \"0.1000\", \"0.2000\", \"0.3000\" \n",
      "};\n",
      "static int MAX_SIZE = 3;\n"
     ]
    }
   ],
   "source": [
    "import numpy as np\n",
    "import struct\n",
    "\n",
    "def flt_to_hex(f):\n",
    "    return hex(struct.unpack('<I', struct.pack('<f', f))[0])\n",
    "\n",
    "weights = np.array( [[1,2,3,4],[5,6,7,8],[9,10,11,12]], dtype=np.float32)\n",
    "inputs = np.array([[0.1,0.2,0.3]], dtype=np.float32)\n",
    "bias = np.array([-2.2, -3.33, -4.444, -5.5555], dtype=np.float32)\n",
    "dots = np.dot(inputs,weights)\n",
    "b_dots = dots + bias \n",
    "outs = np.tanh(b_dots)\n",
    "\n",
    "flts = inputs[0]\n",
    "flts_hex = list(map(lambda x: '32\\'h' + flt_to_hex(x)[2:], flts))\n",
    "flts_str = list(map('\"{:2.4f}\"'.format, flts))\n",
    "offset=6\n",
    "print ('static bit [31:0] fpHex [0:' + str(len(flts)-1) + '] = {')\n",
    "for i in range(0, len(flts), offset):\n",
    "    print (' ' + ', '.join(flts_hex[i:i+offset] ), end='')\n",
    "    print (',' if i < len(flts) - offset else ' ')\n",
    "print ('};') \n",
    "print ('static string fpAscii [0:' + str(len(flts)-1) + '] = {')\n",
    "for i in range(0, len(flts), offset):\n",
    "    print (' ' + ', '.join(flts_str[i:i+offset]), end='')\n",
    "    print (',' if i < len(flts) - offset else ' ')\n",
    "print ('};')\n",
    "print ('static int MAX_SIZE = %d;' % len(flts))  "
   ]
  },
  {
   "cell_type": "code",
   "execution_count": 14,
   "metadata": {},
   "outputs": [
    {
     "name": "stdout",
     "output_type": "stream",
     "text": [
      "static bit [31:0] fpHex [0:3] = {\n",
      " 32'h3f6bb475, 32'h3f4c59a3, 32'h3ef90109, 32'h3cffeaad \n",
      "};\n",
      "static string fpAscii [0:3] = {\n",
      " \"0.9207\", \"0.7982\", \"0.4863\", \"0.0312\" \n",
      "};\n",
      "static int MAX_SIZE = 4;\n"
     ]
    }
   ],
   "source": [
    "import numpy as np\n",
    "import struct\n",
    "LUT_LIM = 2 # seems to be flattened\n",
    "LUT_SIZE = 64 # 64 yields 95.6% accuracy\n",
    "LUT_STEP = ((LUT_LIM+LUT_LIM)/LUT_SIZE)\n",
    "LUT_XS = ( np.arange(-LUT_LIM, LUT_LIM, step=LUT_STEP) + \n",
    "            np.arange(LUT_LIM, -LUT_LIM, step=-LUT_STEP)[::-1] ) /2\n",
    "LUT_YS = np.array( list((map( lambda x: \n",
    "                            np.tanh(x), \n",
    "                            LUT_XS))), dtype=np.float32)\n",
    "X_SHIFT = int(LUT_LIM * (2<<15))\n",
    "X_MAX = int( LUT_XS[-1] * (2<<15)) + X_SHIFT\n",
    "def vlog_tanh(x):\n",
    "    x_int = int(x * (2<<15)) & (2**32-1)    \n",
    "    x_scaled = (x_int + X_SHIFT) & (2**32-1)\n",
    "    lut_idx = x_scaled >> 12    \n",
    "    if (lut_idx & X_MAX): return LUT_YS[0]\n",
    "    elif (lut_idx >= LUT_SIZE): return LUT_YS[-1]\n",
    "    else:  return LUT_YS[lut_idx] \n",
    "\n",
    "def flt_to_hex(f):\n",
    "    return hex(struct.unpack('<I', struct.pack('<f', f))[0]) \n",
    "\n",
    "weights = np.array( [[1,2,3,4],[5,6,7,8],[9,10,11,12]], dtype=np.float32)\n",
    "inputs = np.array([[0.1,0.2,0.3]], dtype=np.float32)\n",
    "bias = np.array([-2.2, -3.33, -4.444, -5.5555], dtype=np.float32)\n",
    "dots = np.dot(inputs,weights)[0]\n",
    "b_dots = dots + bias \n",
    "outs = list(map(vlog_tanh, b_dots))\n",
    "\n",
    "flts = outs\n",
    "flts_hex = list(map(lambda x: '32\\'h' + flt_to_hex(x)[2:], flts))\n",
    "flts_str = list(map('\"{:2.4f}\"'.format, flts))\n",
    "offset=6\n",
    "print ('static bit [31:0] fpHex [0:' + str(len(flts)-1) + '] = {')\n",
    "for i in range(0, len(flts), offset):\n",
    "    print (' ' + ', '.join(flts_hex[i:i+offset] ), end='')\n",
    "    print (',' if i < len(flts) - offset else ' ')\n",
    "print ('};') \n",
    "print ('static string fpAscii [0:' + str(len(flts)-1) + '] = {')\n",
    "for i in range(0, len(flts), offset):\n",
    "    print (' ' + ', '.join(flts_str[i:i+offset]), end='')\n",
    "    print (',' if i < len(flts) - offset else ' ')\n",
    "print ('};') \n",
    "print ('static int MAX_SIZE = %d;' % len(flts))  "
   ]
  },
  {
   "cell_type": "code",
   "execution_count": null,
   "metadata": {},
   "outputs": [],
   "source": []
  }
 ],
 "metadata": {
  "kernelspec": {
   "display_name": "Python 3",
   "language": "python",
   "name": "python3"
  },
  "language_info": {
   "codemirror_mode": {
    "name": "ipython",
    "version": 3
   },
   "file_extension": ".py",
   "mimetype": "text/x-python",
   "name": "python",
   "nbconvert_exporter": "python",
   "pygments_lexer": "ipython3",
   "version": "3.7.6"
  }
 },
 "nbformat": 4,
 "nbformat_minor": 4
}
