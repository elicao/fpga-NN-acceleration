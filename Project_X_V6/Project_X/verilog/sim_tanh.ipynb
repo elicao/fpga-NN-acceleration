{
 "cells": [
  {
   "cell_type": "markdown",
   "metadata": {},
   "source": [
    "# Inference - Large\n",
    "\n",
    "This file evaluates the machine learning model on the full MNIST test set.  \n",
    "\n",
    "See the bottom for the code you need to accelerate.  \n"
   ]
  },
  {
   "cell_type": "code",
   "execution_count": 1,
   "metadata": {},
   "outputs": [],
   "source": [
    "%matplotlib inline\n",
    "import cProfile\n",
    "import json\n",
    "import numpy as np\n",
    "import matplotlib.pyplot as plt\n",
    "import pandas as pd\n",
    "from scipy.stats import truncnorm\n",
    "import timeit"
   ]
  },
  {
   "cell_type": "code",
   "execution_count": 2,
   "metadata": {},
   "outputs": [],
   "source": [
    "image_size = 28 # width and length\n",
    "no_of_different_labels = 10 #  i.e. 0, 1, 2, 3, ..., 9\n",
    "image_pixels = image_size * image_size\n",
    "data_path = \"./data/\""
   ]
  },
  {
   "cell_type": "code",
   "execution_count": 3,
   "metadata": {},
   "outputs": [],
   "source": [
    "test_data = pd.read_csv(data_path + \"mnist_test.csv\", delimiter=\",\").values\n",
    "\n",
    "fac = 0.99 / 255\n",
    "test_imgs = np.asfarray(test_data[:, 1:], dtype=np.float32) * fac + 0.01\n",
    "test_imgs = test_imgs.reshape(test_imgs.shape[0], 1, test_imgs.shape[1])\n",
    "\n",
    "test_labels = np.asfarray(test_data[:, :1], dtype=np.float32)\n",
    "\n",
    "lr = np.arange(no_of_different_labels)\n",
    "# transform labels into one hot representation\n",
    "test_labels_one_hot = (lr==test_labels).astype(np.float32)\n",
    "\n",
    "# we don't want zeroes and ones in the labels neither:\n",
    "test_labels_one_hot[test_labels_one_hot==0] = 0.001\n",
    "test_labels_one_hot[test_labels_one_hot==1] = 0.999"
   ]
  },
  {
   "cell_type": "markdown",
   "metadata": {},
   "source": [
    "## Machine Learning Model\n",
    "\n",
    "Based on: https://towardsdatascience.com/math-neural-network-from-scratch-in-python-d6da9f29ce65\n",
    "\n",
    "All training (backward propagation) code removed"
   ]
  },
  {
   "cell_type": "code",
   "execution_count": 4,
   "metadata": {},
   "outputs": [],
   "source": [
    "# Base class\n",
    "class Layer:\n",
    "    def __init__(self):\n",
    "        self.input = None\n",
    "        self.output = None\n",
    "\n",
    "    # computes the output Y of a layer for a given input X\n",
    "    def forward_propagation(self, input):\n",
    "        raise NotImplementedError\n",
    "\n",
    "    # backward_propagation removed"
   ]
  },
  {
   "cell_type": "code",
   "execution_count": 5,
   "metadata": {},
   "outputs": [],
   "source": [
    "# inherit from base class Layer\n",
    "class FCLayer(Layer):\n",
    "    # input_size = number of input neurons\n",
    "    # output_size = number of output neurons\n",
    "    def __init__(self, input_size, output_size):\n",
    "        self.weights = np.random.rand(input_size, output_size, dtype=np.float32) - 0.5\n",
    "        self.bias = np.random.rand(1, output_size, dtype=np.float32) - 0.5\n",
    "\n",
    "    # returns output for a given input\n",
    "    def forward_propagation(self, input_data):\n",
    "        self.input = input_data\n",
    "        self.output = np.dot(self.input, self.weights) + self.bias\n",
    "        return self.output\n",
    "\n",
    "    # backward_propagation removed"
   ]
  },
  {
   "cell_type": "code",
   "execution_count": 6,
   "metadata": {},
   "outputs": [],
   "source": [
    "# inherit from base class Layer\n",
    "class ActivationLayer(Layer):\n",
    "    def __init__(self, activation, activation_prime):\n",
    "        self.activation = activation\n",
    "        self.activation_prime = activation_prime\n",
    "\n",
    "    # returns the activated input\n",
    "    def forward_propagation(self, input_data):\n",
    "        self.input = input_data\n",
    "        self.output = self.activation(self.input)\n",
    "        return self.output\n",
    "\n",
    "    # backward_propagation removed"
   ]
  },
  {
   "cell_type": "code",
   "execution_count": 7,
   "metadata": {},
   "outputs": [],
   "source": [
    "class TanhLayer(ActivationLayer):\n",
    "    # static\n",
    "    e = 2.71828182845904523536028747135266249775724709369995\n",
    "    \n",
    "    #http://www.plunk.org/~hatch/rightway.php\n",
    "    #https://math.stackexchange.com/questions/518758/alternative-form-for-sinhx-coshx\n",
    "    @staticmethod\n",
    "    def tanh(x):   \n",
    "        e = TanhLayer.e\n",
    "        return (1 - e ** (-2 * x)) / (1 + e ** (-2 * x)) \n",
    "        #return (1-np.exp(-2 * x))/(1+np.exp(-2 * x))\n",
    "\n",
    "    @staticmethod\n",
    "    def tanh_prime(x):\n",
    "        return 1-TanhLayer.tanh(x)**2\n",
    "    \n",
    "    def __init__(self):\n",
    "        super(TanhLayer,self).__init__(self.tanh, self.tanh_prime)"
   ]
  },
  {
   "cell_type": "code",
   "execution_count": 8,
   "metadata": {},
   "outputs": [],
   "source": [
    "def mse(): pass\n",
    "def mse_prime(): pass"
   ]
  },
  {
   "cell_type": "code",
   "execution_count": 9,
   "metadata": {},
   "outputs": [],
   "source": [
    "class Network:\n",
    "    def __init__(self):\n",
    "        self.layers = []\n",
    "\n",
    "    # predict output for given input\n",
    "    def predict(self, input_data):\n",
    "        # sample dimension first\n",
    "        samples = len(input_data)\n",
    "        result = []\n",
    "\n",
    "        # run network over all samples\n",
    "        for i in range(samples):\n",
    "            # forward propagation\n",
    "            output = input_data[i]\n",
    "            for layer in self.layers:\n",
    "                output = layer.forward_propagation(output)\n",
    "            result.append(output)\n",
    "\n",
    "        return result\n",
    "    \n",
    "    # backward_propagation removed\n",
    "\n",
    "    @classmethod\n",
    "    def load(cls, fname):\n",
    "        import pickle\n",
    "        with open(fname, \"br\") as fh:\n",
    "            return pickle.load(fh)"
   ]
  },
  {
   "cell_type": "markdown",
   "metadata": {},
   "source": [
    "## Load the model"
   ]
  },
  {
   "cell_type": "code",
   "execution_count": 10,
   "metadata": {},
   "outputs": [],
   "source": [
    "net = Network.load('network.pkl')"
   ]
  },
  {
   "cell_type": "code",
   "execution_count": 11,
   "metadata": {},
   "outputs": [],
   "source": [
    "def evaluate(net, data, labels):\n",
    "    corrects, wrongs = 0, 0\n",
    "    for i in range(len(data)):\n",
    "        res = np.array(net.predict(data[i]))\n",
    "        res = res.argmax()\n",
    "        if res == labels[i]:\n",
    "            corrects += 1\n",
    "        else:\n",
    "            wrongs += 1\n",
    "    return corrects, wrongs"
   ]
  },
  {
   "cell_type": "markdown",
   "metadata": {},
   "source": [
    "# ============================\n",
    "# This is the part you need to accelerate:\n",
    "# ============================"
   ]
  },
  {
   "cell_type": "code",
   "execution_count": 12,
   "metadata": {},
   "outputs": [
    {
     "name": "stdout",
     "output_type": "stream",
     "text": [
      "Total Correct:9565\n",
      "Total Incorrect: 434\n",
      "Overall Accruracy: 0.9565956595659566\n",
      "Overall Accruracy (%): 95.6%\n",
      "\n",
      "Run Time: 24.084029521007324 Seconds\n"
     ]
    }
   ],
   "source": [
    "start = timeit.default_timer()\n",
    "\n",
    "# now with numpy's tanh!\n",
    "corrects, wrongs = evaluate(net, test_imgs, test_labels)\n",
    "\n",
    "stop = timeit.default_timer()\n",
    "\n",
    "print (\"Total Correct:\" + str(corrects))\n",
    "print (\"Total Incorrect: \" + str(wrongs))\n",
    "print(\"Overall Accruracy: \" + str(corrects / ( corrects + wrongs)))\n",
    "print(\"Overall Accruracy (%): \" + str( int( 1000* corrects / ( corrects + wrongs)) / 10) + \"%\")\n",
    "print ()\n",
    "print('Run Time: ' + str(stop - start) + ' Seconds')  "
   ]
  },
  {
   "cell_type": "markdown",
   "metadata": {},
   "source": [
    "# Tanh Lookup Table Work"
   ]
  },
  {
   "cell_type": "code",
   "execution_count": 13,
   "metadata": {},
   "outputs": [],
   "source": [
    "# This layers redefines Tanh using Python's NumPy math functions\n",
    "class TanhLayer(ActivationLayer):\n",
    "        \n",
    "    def __init__(self):\n",
    "        super(NpTanhLayer,self).__init__(np.tanh, self.tanh_prime)\n",
    "        \n",
    "    @staticmethod\n",
    "    def tanh(x):\n",
    "        return np.tanh(x)\n",
    "    \n",
    "    @staticmethod\n",
    "    def tanh_prime(x):        \n",
    "        return 1-np.tanh(x)**2;     "
   ]
  },
  {
   "cell_type": "code",
   "execution_count": 14,
   "metadata": {},
   "outputs": [
    {
     "data": {
      "text/plain": [
       "Text(0,0.5,'Output')"
      ]
     },
     "execution_count": 14,
     "metadata": {},
     "output_type": "execute_result"
    },
    {
     "data": {
      "image/png": "[encoded data removed]",
      "text/plain": [
       "<matplotlib.figure.Figure at 0xad1cb710>"
      ]
     },
     "metadata": {},
     "output_type": "display_data"
    }
   ],
   "source": [
    "xs = np.linspace(-10, 10, num=10000)\n",
    "ys = list(map( np.tanh, xs))\n",
    "\n",
    "plt.plot(xs, ys, color='blue', alpha = 0.5)\n",
    "plt.title(\"Tanh\")\n",
    "plt.xlabel(\"Input\")\n",
    "plt.ylabel(\"Output\")"
   ]
  },
  {
   "cell_type": "code",
   "execution_count": 15,
   "metadata": {},
   "outputs": [
    {
     "data": {
      "image/png": "[encoded data removed]",
      "text/plain": [
       "<matplotlib.figure.Figure at 0xad179a90>"
      ]
     },
     "metadata": {},
     "output_type": "display_data"
    },
    {
     "data": {
      "image/png": "[encoded data removed]",
      "text/plain": [
       "<matplotlib.figure.Figure at 0xad0fbf10>"
      ]
     },
     "metadata": {},
     "output_type": "display_data"
    }
   ],
   "source": [
    "xs = np.linspace(-5, 5, num=10000)\n",
    "ys = list(map( np.tanh, xs))\n",
    "\n",
    "fig = plt.figure()\n",
    "ax = plt.subplot(111)\n",
    "ax.plot(xs, ys, color='blue', alpha = 0.5, label='Tanh')\n",
    "plt.xlabel(\"Input\")\n",
    "plt.ylabel(\"Output\")\n",
    "ax.legend()\n",
    "plt.show()\n",
    "\n",
    "fig = plt.figure()\n",
    "ax = plt.subplot(111)\n",
    "ax.plot(xs, ys, color='blue', alpha = 0.5, label='Tanh')\n",
    "plt.xlabel(\"Input\")\n",
    "plt.ylabel(\"Output\")\n",
    "plt.xlim([-2,2])\n",
    "ax.legend()\n",
    "plt.show()"
   ]
  },
  {
   "cell_type": "code",
   "execution_count": 16,
   "metadata": {},
   "outputs": [],
   "source": [
    "# stop at approximately +/- LUT_LIM\n",
    "# We'll find the closest integer point to this value\n",
    "LUT_LIM = 2\n",
    "LUT_SIZE = 16 # 16 values in LUT\n",
    "LUT_SCALE = LUT_SIZE / (LUT_LIM+LUT_LIM)\n",
    "# integer steps\n",
    "LUT_STEP = (1/LUT_SCALE)\n",
    "LUT_XS = ( np.arange(-LUT_LIM, LUT_LIM, step=LUT_STEP) + \n",
    "            np.arange(LUT_LIM, -LUT_LIM, step=-LUT_STEP)[::-1] ) /2\n",
    "LUT_YS = np.array( list((map( lambda x: \n",
    "                            np.tanh(x), \n",
    "                            LUT_XS))), dtype=np.float32)\n",
    "\n",
    "def LUTtanh_1(x):\n",
    "    if (x <= -LUT_LIM): return LUT_YS[0]\n",
    "    elif (x >= LUT_LIM): return LUT_YS[-1]\n",
    "    else: \n",
    "        idx = int( (x-(-LUT_LIM)) / (LUT_LIM-(-LUT_LIM)) * len(LUT_YS) )     \n",
    "        return LUT_YS[idx]\n",
    "    \n",
    "LUT_SCALE = len(LUT_YS) / (LUT_LIM+LUT_LIM)\n",
    "LUT_SHIFT = LUT_LIM * LUT_SCALE\n",
    "def LUTtanh_2(x):\n",
    "    if (x <= -LUT_LIM): return LUT_YS[0]\n",
    "    elif (x >= LUT_LIM): return LUT_YS[-1]\n",
    "    else: \n",
    "        idx = int( x*LUT_SCALE + LUT_SHIFT)      \n",
    "        return LUT_YS[idx]\n",
    "    \n",
    "LUT_SCALE = int(len(LUT_YS) / (LUT_LIM+LUT_LIM))\n",
    "LUT_SHIFT = int(int(LUT_LIM * LUT_SCALE))\n",
    "def LUTtanh_3(x):\n",
    "    idx = int(x*LUT_SCALE + LUT_SHIFT)\n",
    "    if idx <=0: return LUT_YS[0]\n",
    "    elif idx >=LUT_SIZE: return LUT_YS[-1]\n",
    "    else: return LUT_YS[idx]    "
   ]
  },
  {
   "cell_type": "code",
   "execution_count": 17,
   "metadata": {},
   "outputs": [
    {
     "data": {
      "image/png": "[encoded data removed]",
      "text/plain": [
       "<matplotlib.figure.Figure at 0xad0f48f0>"
      ]
     },
     "metadata": {},
     "output_type": "display_data"
    },
    {
     "data": {
      "image/png": "[encoded data removed]",
      "text/plain": [
       "<matplotlib.figure.Figure at 0xad016e30>"
      ]
     },
     "metadata": {},
     "output_type": "display_data"
    }
   ],
   "source": [
    "ys_lut = np.array(list(map( LUTtanh_3, xs)))\n",
    "\n",
    "\n",
    "fig = plt.figure()\n",
    "ax = plt.subplot(111)\n",
    "ax.plot(xs, ys, color='blue', alpha = 0.5, label='Tanh')\n",
    "ax.scatter(LUT_XS, LUT_YS, color='magenta', alpha = 0.5, label='LUT points')\n",
    "ax.plot(xs, ys_lut, color='purple', alpha = 0.5, label='LUTtanh')\n",
    "plt.title(\"Sigmoid\")\n",
    "plt.xlabel(\"Input\")\n",
    "plt.ylabel(\"Output\")\n",
    "plt.xlim([-2.5,2.5])\n",
    "ax.legend()\n",
    "plt.show()\n",
    "\n",
    "fig = plt.figure()\n",
    "ax = plt.subplot(111)\n",
    "ax.plot(xs, ys, color='blue', alpha = 0.5, label='Tanh')\n",
    "ax.scatter(LUT_XS, LUT_YS, color='magenta', alpha = 0.5, label='LUT points')\n",
    "ax.plot(xs, ys_lut, color='purple', alpha = 0.5, label='LUTtanh')\n",
    "plt.title(\"Sigmoid\")\n",
    "plt.xlabel(\"Input\")\n",
    "plt.ylabel(\"Output\")\n",
    "plt.xlim([-1,1])\n",
    "#plt.ylim([,1.1])\n",
    "ax.legend()\n",
    "plt.show()"
   ]
  },
  {
   "cell_type": "code",
   "execution_count": 18,
   "metadata": {},
   "outputs": [],
   "source": [
    "# This layers redefines Tanh using a Lookup Table\n",
    "class LutTanhLayer(ActivationLayer):\n",
    "        \n",
    "    def __init__(self):\n",
    "        # stop at approximately +/- LUT_LIM\n",
    "        # We'll find the closest integer point to this value\n",
    "        LUT_LIM = 2\n",
    "        LUT_SIZE = 64 # determined experimentally\n",
    "        LUT_SCALE = LUT_SIZE / (LUT_LIM+LUT_LIM)\n",
    "        # integer steps\n",
    "        LUT_STEP = (1/LUT_SCALE)\n",
    "        LUT_XS = ( np.arange(-LUT_LIM, LUT_LIM, step=LUT_STEP) + \n",
    "                    np.arange(LUT_LIM, -LUT_LIM, step=-LUT_STEP)[::-1] ) /2\n",
    "        self.LUT_YS = np.array( list((map( lambda x: \n",
    "                                    np.tanh(x), \n",
    "                                    LUT_XS))), dtype=np.float32)\n",
    "\n",
    "        self.LUT_SIZE = LUT_SIZE\n",
    "        self.LUT_SCALE = LUT_SCALE\n",
    "        self.LUT_SHIFT = int(LUT_LIM * LUT_SCALE)\n",
    "\n",
    "        super(LutTanhLayer,self).__init__(np.vectorize(self.tanh), self.tanh_prime)\n",
    "               \n",
    "    def tanh(self,x):\n",
    "        # Lookup Table Version\n",
    "        #idx = int( np.floor(x*self.LUT_SCALE)) + self.LUT_SHIFT\n",
    "        idx = int( x*self.LUT_SCALE + self.LUT_SHIFT )\n",
    "        if idx <=0: return self.LUT_YS[0]\n",
    "        elif idx >=self.LUT_SIZE: return self.LUT_YS[-1]\n",
    "        else: return self.LUT_YS[idx]   \n",
    "    \n",
    "    @staticmethod\n",
    "    def tanh_prime(x):        \n",
    "        return 1-np.tanh(x)**2; "
   ]
  },
  {
   "cell_type": "code",
   "execution_count": 19,
   "metadata": {},
   "outputs": [
    {
     "name": "stdout",
     "output_type": "stream",
     "text": [
      "Index: 0\n",
      "Layer Name: FCLayer\n",
      "Layer is Tanh: False\n",
      "\n",
      "Index: 1\n",
      "Layer Name: TanhLayer\n",
      "Layer is Tanh: True\n",
      "Replacing Tanh with LutTanh\n",
      "\n",
      "Index: 2\n",
      "Layer Name: FCLayer\n",
      "Layer is Tanh: False\n",
      "\n",
      "Index: 3\n",
      "Layer Name: TanhLayer\n",
      "Layer is Tanh: True\n",
      "Replacing Tanh with LutTanh\n",
      "\n",
      "Index: 4\n",
      "Layer Name: FCLayer\n",
      "Layer is Tanh: False\n",
      "\n",
      "Index: 5\n",
      "Layer Name: TanhLayer\n",
      "Layer is Tanh: True\n",
      "Replacing Tanh with LutTanh\n",
      "\n",
      "Index: 6\n",
      "Layer Name: FCLayer\n",
      "Layer is Tanh: False\n",
      "\n"
     ]
    }
   ],
   "source": [
    "net2 = Network.load('network.pkl')\n",
    "\n",
    "for i in range(len(net2.layers)):\n",
    "    l = net2.layers[i]\n",
    "    is_tanh = isinstance(l, TanhLayer)\n",
    "    print (\"Index: \" + str(i))\n",
    "    print (\"Layer Name: \" + str(l.__class__.__name__))\n",
    "    print (\"Layer is Tanh: \" + str(is_tanh))\n",
    "    if is_tanh:\n",
    "        print (\"Replacing Tanh with LutTanh\")\n",
    "        net2.layers[i] = LutTanhLayer()\n",
    "    print ()"
   ]
  },
  {
   "cell_type": "code",
   "execution_count": 20,
   "metadata": {},
   "outputs": [
    {
     "name": "stdout",
     "output_type": "stream",
     "text": [
      "Total Correct:9562\n",
      "Total Incorrect: 437\n",
      "Overall Accruracy: 0.9562956295629563\n",
      "Overall Accruracy (%): 95.6%\n",
      "\n",
      "Run Time: 44.00545496898121 Seconds\n"
     ]
    }
   ],
   "source": [
    "# Looks like 64 entries gives us the correct accuracy\n",
    "\n",
    "start = timeit.default_timer()\n",
    "\n",
    "corrects, wrongs = evaluate(net2, test_imgs, test_labels)\n",
    "\n",
    "stop = timeit.default_timer()\n",
    "\n",
    "print (\"Total Correct:\" + str(corrects))\n",
    "print (\"Total Incorrect: \" + str(wrongs))\n",
    "print(\"Overall Accruracy: \" + str(corrects / ( corrects + wrongs)))\n",
    "print(\"Overall Accruracy (%): \" + str( int( 1000* corrects / ( corrects + wrongs)) / 10) + \"%\")\n",
    "print ()\n",
    "print('Run Time: ' + str(stop - start) + ' Seconds') "
   ]
  },
  {
   "cell_type": "code",
   "execution_count": 31,
   "metadata": {},
   "outputs": [
    {
     "data": {
      "image/png": "[encoded data removed]",
      "text/plain": [
       "<matplotlib.figure.Figure at 0xacfab470>"
      ]
     },
     "metadata": {},
     "output_type": "display_data"
    },
    {
     "name": "stdout",
     "output_type": "stream",
     "text": [
      "localparam [31:0] LUT_TABLE [0:63] = {\n",
      "//x:-1.968750000, -1.906250000, -1.843750000, -1.781250000, -1.718750000, -1.656250000\n",
      "//y:-0.961751938, -0.956769347, -0.951153815, -0.944829464, -0.937712312, -0.929710329\n",
      "    32'hbf763560, 32'hbf74eed6, 32'hbf737ed1, 32'hbf71e058, 32'hbf700dea, 32'hbf6e017f,\n",
      "//x:-1.593750000, -1.531250000, -1.468750000, -1.406250000, -1.343750000, -1.281250000\n",
      "//y:-0.920722306, -0.910638273, -0.899338722, -0.886695147, -0.872570038, -0.856817603\n",
      "    32'hbf6bb475, 32'hbf691f97, 32'hbf663b10, 32'hbf62fe74, 32'hbf5f60c0, 32'hbf5b5866,\n",
      "//x:-1.218750000, -1.156250000, -1.093750000, -1.031250000, -0.968750000, -0.906250000\n",
      "//y:-0.839285076, -0.819814026, -0.798242748, -0.774409175, -0.748154461, -0.719327509\n",
      "    32'hbf56db63, 32'hbf51df55, 32'hbf4c59a3, 32'hbf463fae, 32'hbf3f870d, 32'hbf3825d9,\n",
      "//x:-0.843750000, -0.781250000, -0.718750000, -0.656250000, -0.593750000, -0.531250000\n",
      "//y:-0.687790215, -0.653423607, -0.616134405, -0.575862408, -0.532587290, -0.486336023\n",
      "    32'hbf301305, 32'hbf2746c5, 32'hbf1dbafc, 32'hbf136bb8, 32'hbf0857a4, 32'hbef90109,\n",
      "//x:-0.468750000, -0.406250000, -0.343750000, -0.281250000, -0.218750000, -0.156250000\n",
      "//y:-0.437188774, -0.385283977, -0.330821127, -0.274061590, -0.215326339, -0.154990733\n",
      "    32'hbedfd735, 32'hbec543f1, 32'hbea96163, 32'hbe8c51cd, 32'hbe5c7e82, 32'hbe1eb5e4,\n",
      "//x:-0.093750000, -0.031250000, +0.031250000, +0.093750000, +0.156250000, +0.218750000\n",
      "//y:-0.093476303, -0.031239832, +0.031239832, +0.093476303, +0.154990733, +0.215326339\n",
      "    32'hbdbf7081, 32'hbcffeaad, 32'h3cffeaad, 32'h3dbf7081, 32'h3e1eb5e4, 32'h3e5c7e82,\n",
      "//x:+0.281250000, +0.343750000, +0.406250000, +0.468750000, +0.531250000, +0.593750000\n",
      "//y:+0.274061590, +0.330821127, +0.385283977, +0.437188774, +0.486336023, +0.532587290\n",
      "    32'h3e8c51cd, 32'h3ea96163, 32'h3ec543f1, 32'h3edfd735, 32'h3ef90109, 32'h3f0857a4,\n",
      "//x:+0.656250000, +0.718750000, +0.781250000, +0.843750000, +0.906250000, +0.968750000\n",
      "//y:+0.575862408, +0.616134405, +0.653423607, +0.687790215, +0.719327509, +0.748154461\n",
      "    32'h3f136bb8, 32'h3f1dbafc, 32'h3f2746c5, 32'h3f301305, 32'h3f3825d9, 32'h3f3f870d,\n",
      "//x:+1.031250000, +1.093750000, +1.156250000, +1.218750000, +1.281250000, +1.343750000\n",
      "//y:+0.774409175, +0.798242748, +0.819814026, +0.839285076, +0.856817603, +0.872570038\n",
      "    32'h3f463fae, 32'h3f4c59a3, 32'h3f51df55, 32'h3f56db63, 32'h3f5b5866, 32'h3f5f60c0,\n",
      "//x:+1.406250000, +1.468750000, +1.531250000, +1.593750000, +1.656250000, +1.718750000\n",
      "//y:+0.886695147, +0.899338722, +0.910638273, +0.920722306, +0.929710329, +0.937712312\n",
      "    32'h3f62fe74, 32'h3f663b10, 32'h3f691f97, 32'h3f6bb475, 32'h3f6e017f, 32'h3f700dea,\n",
      "//x:+1.781250000, +1.843750000, +1.906250000, +1.968750000\n",
      "//y:+0.944829464, +0.951153815, +0.956769347, +0.961751938\n",
      "    32'h3f71e058, 32'h3f737ed1, 32'h3f74eed6, 32'h3f763560 \n",
      "};\n",
      "localparam LUT_TABLE_SIZE = 64;\n",
      "localparam X_SHIFT = 32'h20000; // 2\n",
      "localparam X_MAX = 32'h40000; // 4\n"
     ]
    }
   ],
   "source": [
    "import numpy as np\n",
    "LUT_LIM = 2 # seems to be flattened\n",
    "LUT_SIZE = 64 # 64 yields 95.6% accuracy\n",
    "LUT_SCALE = LUT_SIZE / (LUT_LIM+LUT_LIM)\n",
    "LUT_STEP = (LUT_LIM+LUT_LIM)/LUT_SIZE\n",
    "LUT_XS = ( np.arange(-LUT_LIM, LUT_LIM, step=LUT_STEP) + \n",
    "            np.arange(LUT_LIM, -LUT_LIM, step=-LUT_STEP)[::-1] ) /2\n",
    "LUT_YS = np.array( list((map( lambda x: \n",
    "                            np.tanh(x), \n",
    "                            LUT_XS))), dtype=np.float32)\n",
    "\n",
    "LUT_SHIFT = int(LUT_LIM / LUT_STEP)\n",
    "def LUTtanh(x):\n",
    "    idx = int(x*LUT_SCALE + LUT_SHIFT)\n",
    "    if idx <=0: return LUT_YS[0]\n",
    "    elif idx >=LUT_SIZE: return LUT_YS[-1]\n",
    "    else: return LUT_YS[idx]\n",
    "    \n",
    "xs = np.linspace(-5, 5, num=10000)\n",
    "ys = list(map( np.tanh, xs))\n",
    "ys_lut = np.array(list(map( LUTtanh, xs)))\n",
    "\n",
    "import matplotlib.pyplot as plt\n",
    "fig = plt.figure()\n",
    "ax = plt.subplot(111)\n",
    "ax.plot(xs, ys, color='blue', alpha = 0.5, label='Tanh')\n",
    "ax.scatter(LUT_XS, LUT_YS, color='magenta', alpha = 0.5, label='LUT points')\n",
    "ax.plot(xs, ys_lut, color='purple', alpha = 0.5, label='LUTtanh')\n",
    "plt.title(\"Tanh\")\n",
    "plt.xlabel(\"Input\")\n",
    "plt.ylabel(\"Output\")\n",
    "plt.xlim([-2.5,2.5])\n",
    "ax.legend()\n",
    "plt.show()\n",
    "\n",
    "import struct\n",
    "def flt_to_hex(f):\n",
    "    return hex(struct.unpack('<I', struct.pack('<f', f))[0])\n",
    "flts_hex = list(map(lambda x: '32\\'h' + flt_to_hex(x)[2:], LUT_YS))\n",
    "xs_str = list(map('{:+2.9f}'.format, LUT_XS))\n",
    "ys_str = list(map('{:+2.9f}'.format, LUT_YS))\n",
    "print ('localparam [31:0] LUT_TABLE [0:' + str(len(flts_hex)-1) + '] = {')\n",
    "for i in range(0, len(flts_hex), 6):\n",
    "    print ('//x:' + ', '.join(xs_str[i:i+6]))\n",
    "    print ('//y:' + ', '.join(ys_str[i:i+6]))\n",
    "    print ('    ' + ', '.join(flts_hex[i:i+6] ), end='')\n",
    "    print (',' if i < len(flts_hex) - 6 else ' ')\n",
    "print ('};') \n",
    "print ('localparam LUT_TABLE_SIZE = ' + str(len(flts_hex)) + ';')\n",
    "# assumes input in signed 32'hXXXX.XXXX fixed point format\n",
    "X_SHIFT = int(LUT_LIM * (2<<15))\n",
    "X_MAX = int( (2*LUT_LIM) * (2<<15))\n",
    "print ('localparam X_SHIFT = 32\\'h' + hex(X_SHIFT)[2:] + '; // ' + str(LUT_LIM))\n",
    "print ('localparam X_MAX = 32\\'h' + hex(X_MAX)[2:] + '; // ' + str(2 *LUT_LIM))"
   ]
  },
  {
   "cell_type": "code",
   "execution_count": 22,
   "metadata": {},
   "outputs": [
    {
     "name": "stdout",
     "output_type": "stream",
     "text": [
      "static bit [31:0] fpHex [0:7] = {\n",
      " 32'hc1800000, 32'hc0800000, 32'hc0066666, 32'hbf99999a, 32'h0, 32'h3f99999a,\n",
      " 32'h40800000, 32'h4203fefa \n",
      "};\n",
      "static string fpAscii [0:7] = {\n",
      " \"-16.0000\", \"-4.0000\", \"-2.1000\", \"-1.2000\", \"0.0000\", \"1.2000\",\n",
      " \"4.0000\", \"32.9990\" \n",
      "};\n"
     ]
    }
   ],
   "source": [
    "import struct\n",
    "def flt_to_hex(f):\n",
    "    return hex(struct.unpack('<I', struct.pack('<f', f))[0])\n",
    "flts = [-16, -4.0, -2.1, -1.2, 0, 1.2, 4.0, 32.999]\n",
    "flts_hex = list(map(lambda x: '32\\'h' + flt_to_hex(x)[2:], flts))\n",
    "flts_str = list(map('\"{:2.4f}\"'.format, flts))\n",
    "offset=6\n",
    "print ('static bit [31:0] fpHex [0:' + str(len(flts)-1) + '] = {')\n",
    "for i in range(0, len(flts), offset):\n",
    "    print (' ' + ', '.join(flts_hex[i:i+offset] ), end='')\n",
    "    print (',' if i < len(flts) - offset else ' ')\n",
    "print ('};') \n",
    "print ('static string fpAscii [0:' + str(len(flts)-1) + '] = {')\n",
    "for i in range(0, len(flts), offset):\n",
    "    print (' ' + ', '.join(flts_str[i:i+offset]), end='')\n",
    "    print (',' if i < len(flts) - offset else ' ')\n",
    "print ('};')"
   ]
  },
  {
   "cell_type": "code",
   "execution_count": 32,
   "metadata": {},
   "outputs": [
    {
     "name": "stdout",
     "output_type": "stream",
     "text": [
      "static bit [31:0] fpHex [0:7] = {\n",
      " 32'hbf763560, 32'hbf763560, 32'hbf763560, 32'hbf56db63, 32'h3cffeaad, 32'h3f56db63,\n",
      " 32'h3f763560, 32'h3f763560 \n",
      "};\n",
      "static string fpAscii [0:7] = {\n",
      " \"-0.9618\", \"-0.9618\", \"-0.9618\", \"-0.8393\", \"0.0312\", \"0.8393\",\n",
      " \"0.9618\", \"0.9618\" \n",
      "};\n"
     ]
    }
   ],
   "source": [
    "import numpy as np\n",
    "import struct\n",
    "LUT_LIM = 2 # seems to be flattened\n",
    "LUT_SIZE = 64 # 64 yields 95.6% accuracy\n",
    "LUT_SCALE = LUT_SIZE / (LUT_LIM+LUT_LIM)\n",
    "LUT_STEP = (1/LUT_SCALE)\n",
    "LUT_XS = ( np.arange(-LUT_LIM, LUT_LIM, step=LUT_STEP) + \n",
    "            np.arange(LUT_LIM, -LUT_LIM, step=-LUT_STEP)[::-1] ) /2\n",
    "LUT_YS = np.array( list((map( lambda x: \n",
    "                            np.tanh(x), \n",
    "                            LUT_XS))), dtype=np.float32)\n",
    "X_SHIFT = int(LUT_LIM * (2<<15))\n",
    "X_MAX = int( 2*LUT_LIM * (2<<15)) \n",
    "\n",
    "def vlog_lut(x):\n",
    "    x_int = int(x * (2<<15)) & (2**32-1)\n",
    "    x_scaled = (x_int + X_SHIFT) & (2**32-1)\n",
    "    lut_idx = x_scaled >> 12\n",
    "    if (lut_idx & X_MAX): return LUT_YS[0]\n",
    "    elif (lut_idx >= LUT_SIZE): return LUT_YS[-1]\n",
    "    else:  return LUT_YS[lut_idx] \n",
    "    \n",
    "def flt_to_hex(f):\n",
    "    return hex(struct.unpack('<I', struct.pack('<f', f))[0])    \n",
    "flts = [-16, -4.0, -2.1, -1.2, 0, 1.2, 4.0, 32.999]\n",
    "flts = list(map(vlog_lut,flts))\n",
    "flts_hex = list(map(lambda x: '32\\'h' + flt_to_hex(x)[2:], flts))\n",
    "flts_str = list(map('\"{:2.4f}\"'.format, flts))\n",
    "offset=6\n",
    "print ('static bit [31:0] fpHex [0:' + str(len(flts)-1) + '] = {')\n",
    "for i in range(0, len(flts), offset):\n",
    "    print (' ' + ', '.join(flts_hex[i:i+offset] ), end='')\n",
    "    print (',' if i < len(flts) - offset else ' ')\n",
    "print ('};') \n",
    "print ('static string fpAscii [0:' + str(len(flts)-1) + '] = {')\n",
    "for i in range(0, len(flts), offset):\n",
    "    print (' ' + ', '.join(flts_str[i:i+offset]), end='')\n",
    "    print (',' if i < len(flts) - offset else ' ')\n",
    "print ('};')"
   ]
  },
  {
   "cell_type": "code",
   "execution_count": 27,
   "metadata": {},
   "outputs": [
    {
     "data": {
      "image/png": "[encoded data removed]",
      "text/plain": [
       "<matplotlib.figure.Figure at 0xacdb8f30>"
      ]
     },
     "metadata": {},
     "output_type": "display_data"
    },
    {
     "data": {
      "image/png": "[encoded data removed]",
      "text/plain": [
       "<matplotlib.figure.Figure at 0xace58b30>"
      ]
     },
     "metadata": {},
     "output_type": "display_data"
    }
   ],
   "source": [
    "import numpy as np\n",
    "import struct\n",
    "LUT_LIM = 2 # seems to be flattened\n",
    "LUT_SIZE = 64 # 64 yields 95.6% accuracy\n",
    "LUT_SCALE = LUT_SIZE / (LUT_LIM+LUT_LIM)\n",
    "LUT_STEP = (1/LUT_SCALE)\n",
    "LUT_XS = ( np.arange(-LUT_LIM, LUT_LIM, step=LUT_STEP) + \n",
    "            np.arange(LUT_LIM, -LUT_LIM, step=-LUT_STEP)[::-1] ) /2\n",
    "LUT_YS = np.array( list((map( lambda x: \n",
    "                            np.tanh(x), \n",
    "                            LUT_XS))), dtype=np.float32)\n",
    "LUT_SHIFT = int(LUT_LIM / LUT_STEP)\n",
    "def LUTtanh(x):\n",
    "    idx = int(x*LUT_SCALE + LUT_SHIFT)\n",
    "    if idx <=0: return LUT_YS[0]\n",
    "    elif idx >=LUT_SIZE: return LUT_YS[-1]\n",
    "    else: return LUT_YS[idx]\n",
    "    \n",
    "\n",
    "X_SHIFT = int(LUT_LIM * (2<<15))\n",
    "X_MAX = int( LUT_XS[-1] * (2<<15)) + X_SHIFT\n",
    "def vlog_tanh(x):\n",
    "    x_int = int(x * (2<<15)) & (2**32-1)\n",
    "    x_scaled = (x_int + X_SHIFT) & (2**32-1)\n",
    "    lut_idx = x_scaled >> 12\n",
    "    if (lut_idx & X_MAX): return LUT_YS[0]\n",
    "    elif (lut_idx >= LUT_SIZE): return LUT_YS[-1]\n",
    "    else:  return LUT_YS[lut_idx] \n",
    "\n",
    "xs = np.linspace(-5, 5, num=10000)\n",
    "ys = list(map( np.tanh, xs))\n",
    "ys_fp = np.array(list(map( LUTtanh, xs)))  \n",
    "ys_vlog = np.array(list(map( vlog_tanh, xs)))    \n",
    "\n",
    "\n",
    "import matplotlib.pyplot as plt\n",
    "fig = plt.figure()\n",
    "ax = plt.subplot(111)\n",
    "ax.plot(xs, ys, color='blue', alpha = 0.5, label='Tanh')\n",
    "ax.scatter(LUT_XS, LUT_YS, color='magenta', alpha = 0.5, label='LUT points')\n",
    "ax.plot(xs, ys_fp, color='purple', alpha = 0.5, label='LutTanh')\n",
    "ax.plot(xs, ys_vlog, color='orange', alpha = 0.5, label='VlogTanh')\n",
    "\n",
    "plt.title(\"Tanh\")\n",
    "plt.xlabel(\"Input\")\n",
    "plt.ylabel(\"Output\")\n",
    "plt.xlim([-2.5,2.5])\n",
    "ax.legend()\n",
    "plt.show()\n",
    "\n",
    "fig = plt.figure()\n",
    "ax = plt.subplot(111)\n",
    "ax.plot(xs, ys, color='blue', alpha = 0.5, label='Tanh')\n",
    "ax.scatter(LUT_XS, LUT_YS, color='magenta', alpha = 0.5, label='LUT points')\n",
    "ax.plot(xs, ys_fp, color='purple', alpha = 0.5, label='LutTanh')\n",
    "ax.plot(xs, ys_vlog, color='orange', alpha = 0.5, label='VlogTanh')\n",
    "plt.title(\"Tanh\")\n",
    "plt.xlabel(\"Input\")\n",
    "plt.ylabel(\"Output\")\n",
    "plt.xlim([-0.5,0.5])\n",
    "ax.legend()\n",
    "plt.show()"
   ]
  },
  {
   "cell_type": "code",
   "execution_count": null,
   "metadata": {},
   "outputs": [],
   "source": []
  }
 ],
 "metadata": {
  "kernelspec": {
   "display_name": "Python 3",
   "language": "python",
   "name": "python3"
  },
  "language_info": {
   "codemirror_mode": {
    "name": "ipython",
    "version": 3
   },
   "file_extension": ".py",
   "mimetype": "text/x-python",
   "name": "python",
   "nbconvert_exporter": "python",
   "pygments_lexer": "ipython3",
   "version": "3.7.6"
  }
 },
 "nbformat": 4,
 "nbformat_minor": 4
}
