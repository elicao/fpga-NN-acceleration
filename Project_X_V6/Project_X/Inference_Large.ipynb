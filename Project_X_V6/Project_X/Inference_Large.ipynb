{
 "cells": [
  {
   "cell_type": "markdown",
   "metadata": {},
   "source": [
    "# Inference - Large\n",
    "\n",
    "This file evaluates the machine learning model on the full MNIST test set.  \n",
    "\n",
    "See the bottom for the code you need to accelerate.  \n"
   ]
  },
  {
   "cell_type": "code",
   "execution_count": 1,
   "metadata": {},
   "outputs": [],
   "source": [
    "%matplotlib inline\n",
    "import cProfile\n",
    "import json\n",
    "import numpy as np\n",
    "import matplotlib.pyplot as plt\n",
    "import pandas as pd\n",
    "from scipy.stats import truncnorm\n",
    "import timeit"
   ]
  },
  {
   "cell_type": "code",
   "execution_count": 2,
   "metadata": {},
   "outputs": [],
   "source": [
    "image_size = 28 # width and length\n",
    "no_of_different_labels = 10 #  i.e. 0, 1, 2, 3, ..., 9\n",
    "image_pixels = image_size * image_size\n",
    "data_path = \"./data/\""
   ]
  },
  {
   "cell_type": "code",
   "execution_count": 3,
   "metadata": {},
   "outputs": [],
   "source": [
    "test_data = pd.read_csv(data_path + \"mnist_test.csv\", delimiter=\",\").values\n",
    "\n",
    "fac = 0.99 / 255\n",
    "test_imgs = np.asfarray(test_data[:, 1:], dtype=np.float32) * fac + 0.01\n",
    "test_imgs = test_imgs.reshape(test_imgs.shape[0], 1, test_imgs.shape[1])\n",
    "\n",
    "test_labels = np.asfarray(test_data[:, :1], dtype=np.float32)\n",
    "\n",
    "lr = np.arange(no_of_different_labels)\n",
    "# transform labels into one hot representation\n",
    "test_labels_one_hot = (lr==test_labels).astype(np.float32)\n",
    "\n",
    "# we don't want zeroes and ones in the labels neither:\n",
    "test_labels_one_hot[test_labels_one_hot==0] = 0.001\n",
    "test_labels_one_hot[test_labels_one_hot==1] = 0.999"
   ]
  },
  {
   "cell_type": "markdown",
   "metadata": {},
   "source": [
    "## Machine Learning Model\n",
    "\n",
    "Based on: https://towardsdatascience.com/math-neural-network-from-scratch-in-python-d6da9f29ce65\n",
    "\n",
    "All training (backward propagation) code removed"
   ]
  },
  {
   "cell_type": "code",
   "execution_count": 4,
   "metadata": {},
   "outputs": [],
   "source": [
    "# Base class\n",
    "class Layer:\n",
    "    def __init__(self):\n",
    "        self.input = None\n",
    "        self.output = None\n",
    "\n",
    "    # computes the output Y of a layer for a given input X\n",
    "    def forward_propagation(self, input):\n",
    "        raise NotImplementedError\n",
    "\n",
    "    # backward_propagation removed"
   ]
  },
  {
   "cell_type": "code",
   "execution_count": 5,
   "metadata": {},
   "outputs": [],
   "source": [
    "# inherit from base class Layer\n",
    "class FCLayer(Layer):\n",
    "    # input_size = number of input neurons\n",
    "    # output_size = number of output neurons\n",
    "    def __init__(self, input_size, output_size):\n",
    "        self.weights = np.random.rand(input_size, output_size) - 0.5\n",
    "        self.bias = np.random.rand(1, output_size) - 0.5\n",
    "\n",
    "    # returns output for a given input\n",
    "    def forward_propagation(self, input_data):\n",
    "        self.input = input_data\n",
    "        self.output = np.dot(self.input, self.weights) + self.bias\n",
    "        return self.output\n",
    "\n",
    "    # backward_propagation removed"
   ]
  },
  {
   "cell_type": "code",
   "execution_count": 6,
   "metadata": {},
   "outputs": [],
   "source": [
    "# inherit from base class Layer\n",
    "class ActivationLayer(Layer):\n",
    "    def __init__(self, activation, activation_prime):\n",
    "        self.activation = activation\n",
    "        self.activation_prime = activation_prime\n",
    "\n",
    "    # returns the activated input\n",
    "    def forward_propagation(self, input_data):\n",
    "        self.input = input_data\n",
    "        self.output = self.activation(self.input)\n",
    "        return self.output\n",
    "\n",
    "    # backward_propagation removed"
   ]
  },
  {
   "cell_type": "code",
   "execution_count": 7,
   "metadata": {},
   "outputs": [],
   "source": [
    "class TanhLayer(ActivationLayer):\n",
    "    # static\n",
    "    e = 2.71828182845904523536028747135266249775724709369995\n",
    "    \n",
    "    #http://www.plunk.org/~hatch/rightway.php\n",
    "    #https://math.stackexchange.com/questions/518758/alternative-form-for-sinhx-coshx\n",
    "    @staticmethod\n",
    "    def tanh(x):   \n",
    "        e = TanhLayer.e\n",
    "        return (1 - e ** (-2 * x)) / (1 + e ** (-2 * x)) \n",
    "        #return (1-np.exp(-2 * x))/(1+np.exp(-2 * x))\n",
    "\n",
    "    @staticmethod\n",
    "    def tanh_prime(x):\n",
    "        return 1-TanhLayer.tanh(x)**2\n",
    "    \n",
    "    def __init__(self):\n",
    "        super(TanhLayer,self).__init__(self.tanh, self.tanh_prime)"
   ]
  },
  {
   "cell_type": "code",
   "execution_count": 8,
   "metadata": {},
   "outputs": [],
   "source": [
    "def mse(): pass\n",
    "def mse_prime(): pass"
   ]
  },
  {
   "cell_type": "code",
   "execution_count": 9,
   "metadata": {},
   "outputs": [],
   "source": [
    "class Network:\n",
    "    def __init__(self):\n",
    "        self.layers = []\n",
    "\n",
    "    # predict output for given input\n",
    "    def predict(self, input_data):\n",
    "        # sample dimension first\n",
    "        samples = len(input_data)\n",
    "        result = []\n",
    "\n",
    "        # run network over all samples\n",
    "        for i in range(samples):\n",
    "            # forward propagation\n",
    "            output = input_data[i]\n",
    "            for layer in self.layers:\n",
    "                output = layer.forward_propagation(output)\n",
    "            result.append(output)\n",
    "\n",
    "        return result\n",
    "    \n",
    "    # backward_propagation removed\n",
    "\n",
    "    @classmethod\n",
    "    def load(cls, fname):\n",
    "        import pickle\n",
    "        with open(fname, \"br\") as fh:\n",
    "            return pickle.load(fh)"
   ]
  },
  {
   "cell_type": "markdown",
   "metadata": {},
   "source": [
    "## Load the model"
   ]
  },
  {
   "cell_type": "code",
   "execution_count": 10,
   "metadata": {},
   "outputs": [],
   "source": [
    "net = Network.load('network.pkl')"
   ]
  },
  {
   "cell_type": "code",
   "execution_count": 11,
   "metadata": {},
   "outputs": [],
   "source": [
    "def evaluate(net, data, labels):\n",
    "    corrects, wrongs = 0, 0\n",
    "    for i in range(len(data)):\n",
    "        res = np.array(net.predict(data[i]))\n",
    "        res = res.argmax()\n",
    "        if res == labels[i]:\n",
    "            corrects += 1\n",
    "        else:\n",
    "            wrongs += 1\n",
    "    return corrects, wrongs"
   ]
  },
  {
   "cell_type": "code",
   "execution_count": 12,
   "metadata": {},
   "outputs": [],
   "source": [
    "def evaluate_hw(net, data, labels):\n",
    "    corrects, wrongs = 0,0\n",
    "    overlay = Overlay('./verilog/bitstreams/784_10.bit')\n",
    "    dma = overlay.axi_dma_0\n",
    "    mmio = overlay.axi_bitcount_0.S_AXI_LITE\n",
    "    \n",
    "    # Send data to FPGA for prediction\n",
    "    # FPGA returns results\n",
    "    res = None # Res = results from FPGA\n",
    "    \n",
    "    if res == labels[i]:\n",
    "        corrects +=1\n",
    "    else:\n",
    "        wrongs +=1\n",
    "    \n",
    "    return corrects, wrongs"
   ]
  },
  {
   "cell_type": "markdown",
   "metadata": {},
   "source": [
    "# ============================\n",
    "# This is the part you need to accelerate:\n",
    "# ============================"
   ]
  },
  {
   "cell_type": "code",
   "execution_count": 13,
   "metadata": {},
   "outputs": [
    {
     "name": "stdout",
     "output_type": "stream",
     "text": [
      "Total Correct:9565\n",
      "Total Incorrect: 434\n",
      "Overall Accruracy: 0.9565956595659566\n",
      "Overall Accruracy (%): 95.6%\n",
      "\n",
      "Run Time: 22.295984556999883 Seconds\n"
     ]
    }
   ],
   "source": [
    "start = timeit.default_timer()\n",
    "\n",
    "corrects, wrongs = evaluate(net, test_imgs, test_labels)\n",
    "\n",
    "stop = timeit.default_timer()\n",
    "\n",
    "print (\"Total Correct:\" + str(corrects))\n",
    "print (\"Total Incorrect: \" + str(wrongs))\n",
    "print(\"Overall Accruracy: \" + str(corrects / ( corrects + wrongs)))\n",
    "print(\"Overall Accruracy (%): \" + str( int( 1000* corrects / ( corrects + wrongs)) / 10) + \"%\")\n",
    "print ()\n",
    "print('Run Time: ' + str(stop - start) + ' Seconds')  "
   ]
  },
  {
   "cell_type": "markdown",
   "metadata": {},
   "source": [
    "### For reference, my Pynq takes ~22.4 seconds for the above evaluation.  \n",
    "\n",
    "# Your mission:  Make this run faster, while keeping >95% overall accuracy!\n",
    "\n",
    "### Please refer to the \"Interence_Small\" for details about swapping out individual layers"
   ]
  },
  {
   "cell_type": "code",
   "execution_count": 14,
   "metadata": {},
   "outputs": [
    {
     "data": {
      "application/javascript": [
       "\n",
       "require(['notebook/js/codecell'], function(codecell) {\n",
       "  codecell.CodeCell.options_default.highlight_modes[\n",
       "      'magic_text/x-csrc'] = {'reg':[/^%%microblaze/]};\n",
       "  Jupyter.notebook.events.one('kernel_ready.Kernel', function(){\n",
       "      Jupyter.notebook.get_cells().map(function(cell){\n",
       "          if (cell.cell_type == 'code'){ cell.auto_highlight(); } }) ;\n",
       "  });\n",
       "});\n"
      ]
     },
     "metadata": {},
     "output_type": "display_data"
    }
   ],
   "source": [
    "from pynq import Xlnk\n",
    "from pynq import Overlay\n",
    "\n",
    "class hardwareLayer(Layer):\n",
    "    def __init__(self, bit, input_sz, output_sz):\n",
    "        self.overlay = Overlay(bit)\n",
    "        self.dma = self.overlay.axi_dma_0\n",
    "        \n",
    "        xlnk = Xlnk()        \n",
    "        self.input_buffer = xlnk.cma_array(\n",
    "                                shape=(input_sz,), \n",
    "                                dtype=np.float32)\n",
    "        self.output_buffer = xlnk.cma_array(\n",
    "                                shape=(output_sz,),\n",
    "                                dtype=np.float32)\n",
    "        \n",
    "    def forward_propagation(self, input):\n",
    "        # use this for first layer\n",
    "        np.copyto(self.input_buffer, input)\n",
    "\n",
    "        self.dma.sendchannel.transfer(self.input_buffer)    \n",
    "        self.dma.recvchannel.transfer(self.output_buffer)\n",
    "        \n",
    "        self.dma.sendchannel.wait()\n",
    "        self.dma.recvchannel.wait()\n",
    "        \n",
    "        #output expects a [1,output_sz] matrix (not vector)\n",
    "        return self.output_buffer.reshape(\n",
    "                                1, len(self.output_buffer))"
   ]
  },
  {
   "cell_type": "code",
   "execution_count": 15,
   "metadata": {},
   "outputs": [],
   "source": [
    "hw_net = Network()\n",
    "\n",
    "# 784 and 10 are hardcoded in bitstream\n",
    "hw_net.layers.append(hardwareLayer('./verilog/bitstreams/784_10.bit', 784, 10))"
   ]
  },
  {
   "cell_type": "code",
   "execution_count": 16,
   "metadata": {},
   "outputs": [
    {
     "name": "stdout",
     "output_type": "stream",
     "text": [
      "Total Correct:9562\n",
      "Total Incorrect: 437\n",
      "Overall Accruracy: 0.9562956295629563\n",
      "Overall Accruracy (%): 95.6%\n",
      "\n",
      "Run Time: 11.303748370000449 Seconds\n"
     ]
    }
   ],
   "source": [
    "start = timeit.default_timer()\n",
    "\n",
    "corrects, wrongs = evaluate(hw_net, test_imgs, test_labels)\n",
    "\n",
    "stop = timeit.default_timer()\n",
    "\n",
    "print (\"Total Correct:\" + str(corrects))\n",
    "print (\"Total Incorrect: \" + str(wrongs))\n",
    "print(\"Overall Accruracy: \" + str(corrects / ( corrects + wrongs)))\n",
    "print(\"Overall Accruracy (%): \" + str( int( 1000* corrects / ( corrects + wrongs)) / 10) + \"%\")\n",
    "print ()\n",
    "print('Run Time: ' + str(stop - start) + ' Seconds')  "
   ]
  },
  {
   "cell_type": "code",
   "execution_count": null,
   "metadata": {},
   "outputs": [],
   "source": []
  }
 ],
 "metadata": {
  "kernelspec": {
   "display_name": "Python 3",
   "language": "python",
   "name": "python3"
  },
  "language_info": {
   "codemirror_mode": {
    "name": "ipython",
    "version": 3
   },
   "file_extension": ".py",
   "mimetype": "text/x-python",
   "name": "python",
   "nbconvert_exporter": "python",
   "pygments_lexer": "ipython3",
   "version": "3.6.5"
  }
 },
 "nbformat": 4,
 "nbformat_minor": 4
}
